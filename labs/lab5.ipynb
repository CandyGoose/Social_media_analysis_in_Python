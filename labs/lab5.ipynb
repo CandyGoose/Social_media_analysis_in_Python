{
  "nbformat": 4,
  "nbformat_minor": 0,
  "metadata": {
    "colab": {
      "provenance": []
    },
    "kernelspec": {
      "name": "python3",
      "display_name": "Python 3"
    },
    "language_info": {
      "name": "python"
    }
  },
  "cells": [
    {
      "cell_type": "markdown",
      "source": [
        "# Архитектура систем классификации"
      ],
      "metadata": {
        "id": "mOwJatKtDPzL"
      }
    },
    {
      "cell_type": "markdown",
      "source": [
        "![image.png](data:image/png;base64,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)"
      ],
      "metadata": {
        "id": "8Q-45Pf9DpHP"
      }
    },
    {
      "cell_type": "code",
      "source": [
        "import numpy as np\n"
      ],
      "metadata": {
        "id": "lzY8PmsvI6AN"
      },
      "execution_count": null,
      "outputs": []
    },
    {
      "cell_type": "markdown",
      "source": [
        "## Мешок слов (Bag of Words, BoW)"
      ],
      "metadata": {
        "id": "mGzRu5rLI6kT"
      }
    },
    {
      "cell_type": "code",
      "source": [
        "from sklearn.feature_extraction.text import CountVectorizer"
      ],
      "metadata": {
        "id": "RTgfYozKJVT0"
      },
      "execution_count": null,
      "outputs": []
    },
    {
      "cell_type": "code",
      "source": [
        "#корпус предобработанных текстов\n",
        "Db = ['Вася любить кот',\n",
        "      'Кот жить улица',\n",
        "      'Кот любить рыба']"
      ],
      "metadata": {
        "id": "aivWwtQzDRuA"
      },
      "execution_count": null,
      "outputs": []
    },
    {
      "cell_type": "code",
      "source": [
        "#векторизуем сразу весь корпус\n",
        "vectorizer = CountVectorizer()\n",
        "X = vectorizer.fit_transform(Db).toarray()\n",
        "X"
      ],
      "metadata": {
        "colab": {
          "base_uri": "https://localhost:8080/"
        },
        "id": "LEX05o-0Jzq5",
        "outputId": "361b0aca-d75b-46f7-b898-470f87da12da"
      },
      "execution_count": null,
      "outputs": [
        {
          "output_type": "execute_result",
          "data": {
            "text/plain": [
              "array([[1, 0, 1, 1, 0, 0],\n",
              "       [0, 1, 1, 0, 0, 1],\n",
              "       [0, 0, 1, 1, 1, 0]])"
            ]
          },
          "metadata": {},
          "execution_count": 23
        }
      ]
    },
    {
      "cell_type": "code",
      "source": [
        "#в предобученный векторизатор подаем новый текст\n",
        "vectorizer.transform(['кот','собака']).toarray()"
      ],
      "metadata": {
        "colab": {
          "base_uri": "https://localhost:8080/"
        },
        "id": "tw-Wihwe0BMf",
        "outputId": "bf709e5c-96ae-4cbb-baaa-b7830f2c34e2"
      },
      "execution_count": null,
      "outputs": [
        {
          "output_type": "execute_result",
          "data": {
            "text/plain": [
              "array([[0, 0, 1, 0, 0, 0],\n",
              "       [0, 0, 0, 0, 0, 0]])"
            ]
          },
          "metadata": {},
          "execution_count": 24
        }
      ]
    },
    {
      "cell_type": "markdown",
      "source": [
        "## TF-IDF"
      ],
      "metadata": {
        "id": "q15LHy18KQXs"
      }
    },
    {
      "cell_type": "code",
      "source": [
        "from sklearn.feature_extraction.text import TfidfVectorizer"
      ],
      "metadata": {
        "id": "BsW2qRSNKVdS"
      },
      "execution_count": null,
      "outputs": []
    },
    {
      "cell_type": "code",
      "source": [
        "Db = ['Вася любит кот',\n",
        "      'Кот жить улица',\n",
        "      'Кот любить рыба']"
      ],
      "metadata": {
        "id": "47lPDfSzKVdS"
      },
      "execution_count": null,
      "outputs": []
    },
    {
      "cell_type": "code",
      "source": [
        "vectorizer = TfidfVectorizer()\n",
        "X = vectorizer.fit_transform(Db).toarray()\n",
        "X"
      ],
      "metadata": {
        "colab": {
          "base_uri": "https://localhost:8080/"
        },
        "outputId": "cee3d4a4-0a8f-4b8f-fc7f-bc8391f540de",
        "id": "XHxMD1GDKVdS"
      },
      "execution_count": null,
      "outputs": [
        {
          "output_type": "execute_result",
          "data": {
            "text/plain": [
              "array([[0.65249088, 0.        , 0.38537163, 0.65249088, 0.        ,\n",
              "        0.        , 0.        ],\n",
              "       [0.        , 0.65249088, 0.38537163, 0.        , 0.        ,\n",
              "        0.        , 0.65249088],\n",
              "       [0.        , 0.        , 0.38537163, 0.        , 0.65249088,\n",
              "        0.65249088, 0.        ]])"
            ]
          },
          "metadata": {},
          "execution_count": 8
        }
      ]
    },
    {
      "cell_type": "markdown",
      "source": [
        "## Word2Vec"
      ],
      "metadata": {
        "id": "F3W02uLopcDC"
      }
    },
    {
      "cell_type": "code",
      "source": [
        "!pip install gensim > None"
      ],
      "metadata": {
        "colab": {
          "base_uri": "https://localhost:8080/"
        },
        "id": "VHfYjdyfoZeq",
        "outputId": "439e8bac-bc66-44f8-c1af-94593dfd2d24"
      },
      "execution_count": null,
      "outputs": [
        {
          "output_type": "stream",
          "name": "stdout",
          "text": [
            "Collecting gensim\n",
            "  Downloading gensim-4.3.3-cp311-cp311-manylinux_2_17_x86_64.manylinux2014_x86_64.whl.metadata (8.1 kB)\n",
            "Requirement already satisfied: numpy<2.0,>=1.18.5 in /usr/local/lib/python3.11/dist-packages (from gensim) (1.26.4)\n",
            "Collecting scipy<1.14.0,>=1.7.0 (from gensim)\n",
            "  Downloading scipy-1.13.1-cp311-cp311-manylinux_2_17_x86_64.manylinux2014_x86_64.whl.metadata (60 kB)\n",
            "\u001b[2K     \u001b[90m━━━━━━━━━━━━━━━━━━━━━━━━━━━━━━━━━━━━━━━━\u001b[0m \u001b[32m60.6/60.6 kB\u001b[0m \u001b[31m3.4 MB/s\u001b[0m eta \u001b[36m0:00:00\u001b[0m\n",
            "\u001b[?25hRequirement already satisfied: smart-open>=1.8.1 in /usr/local/lib/python3.11/dist-packages (from gensim) (7.1.0)\n",
            "Requirement already satisfied: wrapt in /usr/local/lib/python3.11/dist-packages (from smart-open>=1.8.1->gensim) (1.17.2)\n",
            "Downloading gensim-4.3.3-cp311-cp311-manylinux_2_17_x86_64.manylinux2014_x86_64.whl (26.7 MB)\n",
            "\u001b[2K   \u001b[90m━━━━━━━━━━━━━━━━━━━━━━━━━━━━━━━━━━━━━━━━\u001b[0m \u001b[32m26.7/26.7 MB\u001b[0m \u001b[31m50.8 MB/s\u001b[0m eta \u001b[36m0:00:00\u001b[0m\n",
            "\u001b[?25hDownloading scipy-1.13.1-cp311-cp311-manylinux_2_17_x86_64.manylinux2014_x86_64.whl (38.6 MB)\n",
            "\u001b[2K   \u001b[90m━━━━━━━━━━━━━━━━━━━━━━━━━━━━━━━━━━━━━━━━\u001b[0m \u001b[32m38.6/38.6 MB\u001b[0m \u001b[31m15.1 MB/s\u001b[0m eta \u001b[36m0:00:00\u001b[0m\n",
            "\u001b[?25hInstalling collected packages: scipy, gensim\n",
            "  Attempting uninstall: scipy\n",
            "    Found existing installation: scipy 1.14.1\n",
            "    Uninstalling scipy-1.14.1:\n",
            "      Successfully uninstalled scipy-1.14.1\n",
            "Successfully installed gensim-4.3.3 scipy-1.13.1\n"
          ]
        }
      ]
    },
    {
      "cell_type": "code",
      "source": [
        "import gensim.downloader as api"
      ],
      "metadata": {
        "id": "oE-YJw52KAlk"
      },
      "execution_count": 22,
      "outputs": []
    },
    {
      "cell_type": "markdown",
      "source": [
        "word2vec-ruscorpora-300 - word2vec обученный на Russian National Corpus (~ 250M слов), SkipGram с окном 10"
      ],
      "metadata": {
        "id": "4uzDVMv3p2vf"
      }
    },
    {
      "cell_type": "markdown",
      "source": [
        "В модели \"word2vec-ruscorpora-300\" после слова указывается часть речи: NOUN (существительное), ADJ (прилагательное) и так далее."
      ],
      "metadata": {
        "id": "V0hCEC8tp7Ce"
      }
    },
    {
      "cell_type": "markdown",
      "source": [
        "[Другие предобученные эмбеддинги gensim](https://radimrehurek.com/gensim/models/word2vec.html#pretrained-models)"
      ],
      "metadata": {
        "id": "XTEJ_wWop8ER"
      }
    },
    {
      "cell_type": "code",
      "source": [
        "#загрузка предобученную модель\n",
        "wv = api.load('word2vec-ruscorpora-300')"
      ],
      "metadata": {
        "colab": {
          "base_uri": "https://localhost:8080/"
        },
        "id": "IYg_7CnKpwul",
        "outputId": "9631cd61-18fe-4e62-8f2c-80adbfabff15"
      },
      "execution_count": null,
      "outputs": [
        {
          "output_type": "stream",
          "name": "stdout",
          "text": [
            "[==================================================] 100.0% 198.8/198.8MB downloaded\n"
          ]
        }
      ]
    },
    {
      "cell_type": "code",
      "source": [
        "#список слов в данной модели\n",
        "list(wv.index_to_key)[:10]"
      ],
      "metadata": {
        "colab": {
          "base_uri": "https://localhost:8080/"
        },
        "id": "l2itkzmwrsac",
        "outputId": "9674a419-10c8-4143-83ba-00211a1ba8cd"
      },
      "execution_count": null,
      "outputs": [
        {
          "output_type": "execute_result",
          "data": {
            "text/plain": [
              "['весь_DET',\n",
              " 'человек_NOUN',\n",
              " 'мочь_VERB',\n",
              " 'год_NOUN',\n",
              " 'сказать_VERB',\n",
              " 'время_NOUN',\n",
              " 'говорить_VERB',\n",
              " 'становиться_VERB',\n",
              " 'знать_VERB',\n",
              " 'самый_DET']"
            ]
          },
          "metadata": {},
          "execution_count": 13
        }
      ]
    },
    {
      "cell_type": "code",
      "source": [
        "len(list(wv.index_to_key))"
      ],
      "metadata": {
        "colab": {
          "base_uri": "https://localhost:8080/"
        },
        "id": "Cqpe8Nz4t4AU",
        "outputId": "327fa3a8-1cfa-4766-da8a-d14f877d68d5"
      },
      "execution_count": null,
      "outputs": [
        {
          "output_type": "execute_result",
          "data": {
            "text/plain": [
              "184973"
            ]
          },
          "metadata": {},
          "execution_count": 14
        }
      ]
    },
    {
      "cell_type": "code",
      "source": [
        "#получение вектора w2v по слову\n",
        "#print(wv['человек_NOUN'])\n",
        "wv['человек_NOUN'].shape"
      ],
      "metadata": {
        "colab": {
          "base_uri": "https://localhost:8080/"
        },
        "id": "Ic4Ol89Ysxl4",
        "outputId": "0f02a88f-dc93-4c76-ab0a-eadeaaed11ad"
      },
      "execution_count": null,
      "outputs": [
        {
          "output_type": "execute_result",
          "data": {
            "text/plain": [
              "(300,)"
            ]
          },
          "metadata": {},
          "execution_count": 26
        }
      ]
    },
    {
      "cell_type": "code",
      "source": [
        "#создание списка слов без частей речи\n",
        "vocab = []\n",
        "for w in list(wv.index_to_key):\n",
        "  vocab.append(w.split('_')[0])"
      ],
      "metadata": {
        "id": "_MnladTqs5kr"
      },
      "execution_count": null,
      "outputs": []
    },
    {
      "cell_type": "code",
      "source": [
        "vocab[:10]"
      ],
      "metadata": {
        "colab": {
          "base_uri": "https://localhost:8080/"
        },
        "id": "9agfYhckuPsu",
        "outputId": "3c2f1534-31a7-4c4f-8774-7046a7e6454a"
      },
      "execution_count": null,
      "outputs": [
        {
          "output_type": "execute_result",
          "data": {
            "text/plain": [
              "['весь',\n",
              " 'человек',\n",
              " 'мочь',\n",
              " 'год',\n",
              " 'сказать',\n",
              " 'время',\n",
              " 'говорить',\n",
              " 'становиться',\n",
              " 'знать',\n",
              " 'самый']"
            ]
          },
          "metadata": {},
          "execution_count": 17
        }
      ]
    },
    {
      "cell_type": "code",
      "source": [
        "#вектора каждого слова из предложения\n",
        "preprocessing_text = ['кот', 'любить', 'тыгыдыкать']\n",
        "vectors_word = []\n",
        "for i in preprocessing_text:\n",
        "  if i in vocab:\n",
        "    #vocab.index(i) - находит идекс в vocab\n",
        "    #list(wv.index_to_key)[vocab.index(i)] - выводит слово с его частью речи\n",
        "    #wv[list(wv.index_to_key)[vocab.index(i)]] - получаем вектор\n",
        "    vectors_word.append(wv[list(wv.index_to_key)[vocab.index(i)]])\n",
        "  else:\n",
        "    vectors_word.append(np.zeros(300))\n",
        "vector_text = np.mean(vectors_word, axis = 0)"
      ],
      "metadata": {
        "id": "1fMbHs2muWho"
      },
      "execution_count": null,
      "outputs": []
    },
    {
      "cell_type": "code",
      "source": [
        "print(vectors_word)"
      ],
      "metadata": {
        "id": "wpPEX3WDxp0Q",
        "colab": {
          "base_uri": "https://localhost:8080/"
        },
        "outputId": "5ba250e9-4bcc-4513-844c-cf3c30bd56d5"
      },
      "execution_count": null,
      "outputs": [
        {
          "output_type": "stream",
          "name": "stdout",
          "text": [
            "[array([-1.52633622e-01, -6.22178875e-02,  8.02985206e-02,  3.76203880e-02,\n",
            "       -8.09977110e-03, -6.56392053e-02,  5.08799739e-02,  6.61313012e-02,\n",
            "        1.57197528e-02,  9.78986733e-03,  4.73552682e-02, -2.55929027e-02,\n",
            "        1.05717339e-01, -2.22761724e-02,  5.41505031e-02, -3.82993110e-02,\n",
            "        5.26556484e-02,  1.17264939e-02, -1.46230776e-02, -1.95544884e-02,\n",
            "        5.04205190e-02, -3.71097960e-02,  3.57442684e-02,  4.96631972e-02,\n",
            "       -5.57994805e-02, -3.11674438e-02, -2.20739599e-02,  1.07113965e-01,\n",
            "       -9.91705209e-02, -4.57583293e-02, -9.96095166e-02,  4.80931476e-02,\n",
            "       -1.33494905e-03,  3.51430699e-02,  2.42795311e-02, -2.34595835e-02,\n",
            "        5.17160492e-03, -2.06816625e-02,  4.38127927e-02, -3.31711844e-02,\n",
            "       -2.07874626e-02,  6.72167316e-02, -7.74500072e-02,  2.93545369e-02,\n",
            "       -1.46178985e-02,  4.10723649e-02,  8.69638026e-02, -3.46537703e-03,\n",
            "        3.90354246e-02, -2.03978154e-03,  5.43198660e-02,  7.57279024e-02,\n",
            "        1.48434611e-02,  8.33871886e-02, -2.87217349e-02, -3.09202913e-03,\n",
            "       -7.93954656e-02, -2.82405037e-02, -1.64566293e-01, -1.17127458e-02,\n",
            "       -2.68191863e-02, -1.14840917e-01,  4.07641158e-02, -1.52551448e-02,\n",
            "        1.05389841e-01, -2.80199181e-02, -1.25609236e-02,  1.09363765e-01,\n",
            "       -1.05669824e-02,  1.92236323e-02, -2.05025654e-02,  3.25121842e-02,\n",
            "        3.57208811e-02, -2.52568591e-02,  2.24481337e-02,  5.09182140e-02,\n",
            "        6.63011149e-02, -6.96184263e-02, -5.87991485e-03,  3.19263488e-02,\n",
            "        2.67947633e-02,  5.35315834e-02,  5.44695035e-02,  2.58983169e-02,\n",
            "       -7.08631724e-02,  1.04762614e-01, -6.68804273e-02, -1.38250962e-02,\n",
            "        1.44148827e-01,  6.52979612e-02,  1.60416458e-02, -2.04468183e-02,\n",
            "        3.70856933e-02, -3.04988828e-02,  1.09351687e-01,  1.64980050e-02,\n",
            "        2.36458685e-02, -1.01091415e-02, -6.50116727e-02, -1.13031827e-01,\n",
            "       -1.19736008e-01, -5.59152151e-03,  1.64195765e-02,  8.24512169e-03,\n",
            "       -8.84061214e-03,  7.30062574e-02,  2.95458623e-04,  3.91627736e-02,\n",
            "        6.22012243e-02,  1.01540620e-02, -2.01074360e-03,  9.14960168e-03,\n",
            "       -2.40149889e-02, -7.16753602e-02, -8.49208906e-02,  5.45662642e-02,\n",
            "        2.19109673e-02,  9.25432891e-03,  2.24880818e-02, -3.62291490e-03,\n",
            "        8.57939944e-02, -5.56841269e-02, -1.16740711e-01,  2.33066957e-02,\n",
            "       -8.18690881e-02, -1.44955916e-02,  3.33725065e-02,  3.03953364e-02,\n",
            "        2.25391071e-02, -3.46978344e-02, -6.41057938e-02,  7.33885840e-02,\n",
            "       -2.90144072e-03, -2.75960714e-02, -2.21674796e-02, -3.96765396e-02,\n",
            "       -3.22195105e-02,  4.82296161e-02,  4.16103862e-02,  3.63796987e-02,\n",
            "        2.58319732e-02,  7.23602101e-02,  1.09503092e-03,  8.37009493e-03,\n",
            "        5.09082936e-02, -3.29718776e-02, -5.68303093e-02,  1.01079745e-02,\n",
            "       -8.52582380e-02,  1.99150909e-02,  2.33987775e-02, -3.49289179e-02,\n",
            "       -2.18948033e-02, -1.17089637e-02,  1.78485103e-02, -5.88125037e-03,\n",
            "        2.24573947e-02, -7.76379481e-02, -2.46963687e-02,  2.34957393e-02,\n",
            "       -7.47927353e-02, -3.52633633e-02,  6.65142164e-02, -2.21630055e-02,\n",
            "        9.85186771e-02, -4.27325964e-02,  2.38673016e-02,  3.69326621e-02,\n",
            "        5.19271940e-03, -4.75301892e-02, -1.99485421e-02,  2.70965626e-03,\n",
            "       -7.23582553e-03,  8.48396868e-02,  6.64435774e-02, -9.35326666e-02,\n",
            "        4.94468771e-02,  8.26572999e-02, -1.33822160e-02, -5.32249734e-03,\n",
            "        4.29970361e-02,  8.93590376e-02, -1.27462680e-02,  2.74799261e-02,\n",
            "       -3.33027355e-02,  4.35785688e-02,  4.56295535e-02,  3.17847766e-02,\n",
            "       -9.68080908e-02, -6.77153543e-02, -9.52497870e-02, -8.87092575e-03,\n",
            "       -4.08960059e-02, -5.09431772e-02,  2.54585221e-02,  5.80319017e-02,\n",
            "        5.08921407e-02, -5.23761436e-02, -2.77449843e-02,  7.23702163e-02,\n",
            "       -9.36738960e-03,  8.10077041e-03,  3.52279693e-02, -1.19305283e-01,\n",
            "       -3.82529870e-02, -8.29238147e-02, -8.81364495e-02,  1.62167493e-02,\n",
            "        2.68793292e-02, -3.83929200e-02, -2.57957950e-02, -1.86822563e-02,\n",
            "       -5.47099225e-02, -5.65230772e-02, -1.98926777e-02,  3.54687981e-02,\n",
            "        1.35690883e-01,  8.04331973e-02,  1.92622133e-02,  5.81734739e-02,\n",
            "       -5.02377190e-02,  2.47635460e-03, -5.33336513e-02,  4.08107415e-02,\n",
            "        1.18754342e-01, -7.40583912e-02,  7.48252273e-02,  1.46314219e-01,\n",
            "        6.73391623e-03, -1.98812839e-02, -2.93681423e-05, -2.12224070e-02,\n",
            "        1.70804688e-03,  3.52822542e-02, -1.65668026e-01, -4.84176865e-03,\n",
            "        1.21439025e-02,  8.64505395e-02, -1.57235548e-01,  7.75721148e-02,\n",
            "        5.35202436e-02,  1.17224073e-02, -7.53299072e-02, -3.44986990e-02,\n",
            "       -1.58868451e-02,  7.00481758e-02,  7.96044394e-02, -4.09048088e-02,\n",
            "       -1.46982130e-02, -1.24979429e-01, -4.20956686e-02, -8.43289569e-02,\n",
            "       -6.92764968e-02,  5.16316369e-02,  2.03369856e-02, -4.73499410e-02,\n",
            "        9.15571675e-02, -5.96052743e-02,  1.10012911e-01,  2.55208667e-02,\n",
            "       -8.69148783e-03, -7.76273850e-03,  4.98862900e-02,  9.31067672e-03,\n",
            "       -3.49833667e-02,  1.33375779e-01,  8.40289332e-03, -3.45170535e-02,\n",
            "       -3.47062238e-02, -9.73994732e-02, -2.54784450e-02, -1.39390659e-02,\n",
            "       -3.32783237e-02,  9.36794057e-02,  3.47191617e-02,  2.80651636e-02,\n",
            "        6.58571906e-03,  3.73428725e-02, -3.32412347e-02, -9.73492190e-02,\n",
            "       -7.07265735e-02, -7.01062232e-02,  3.67225669e-02, -2.62719765e-02,\n",
            "        5.82991205e-02, -7.42069781e-02,  1.66096780e-02, -8.83689746e-02,\n",
            "       -1.62591994e-01,  4.79482487e-02,  5.83929494e-02, -1.04699671e-01,\n",
            "        3.52650951e-03,  2.50546616e-02,  3.84298228e-02, -4.36684191e-02,\n",
            "        5.68282753e-02,  6.57160487e-03, -3.02405991e-02,  2.51490474e-02],\n",
            "      dtype=float32), array([-0.0645045 ,  0.05125751, -0.03536628, -0.01498123, -0.0277048 ,\n",
            "       -0.00367899, -0.02321433, -0.03754522, -0.08269951, -0.01911996,\n",
            "       -0.0706512 , -0.06111604,  0.0694447 ,  0.02893103, -0.01717168,\n",
            "       -0.01046576,  0.03833541,  0.02717068,  0.00305273, -0.03387424,\n",
            "       -0.07393394,  0.0033245 , -0.03225933,  0.05134457, -0.02818249,\n",
            "       -0.0517306 , -0.02612063,  0.01421905, -0.0110558 , -0.14066628,\n",
            "        0.00926964, -0.02052713,  0.0342296 , -0.02017034,  0.01908641,\n",
            "        0.02944711, -0.00391393, -0.01972052, -0.02602919, -0.03740118,\n",
            "        0.06093333, -0.01035828, -0.0202333 , -0.03972574,  0.11047018,\n",
            "       -0.01011596, -0.02866923, -0.05497253,  0.04549017, -0.09964983,\n",
            "       -0.09227355,  0.1048983 ,  0.05860939, -0.01932501, -0.0321778 ,\n",
            "        0.00625805, -0.01399862, -0.01284815, -0.07167402,  0.02135038,\n",
            "        0.05244046,  0.00947168,  0.00239955, -0.08826445,  0.11832519,\n",
            "       -0.03774803, -0.09982263,  0.01386579,  0.10854616, -0.0680209 ,\n",
            "       -0.0190593 , -0.05491138, -0.03584682, -0.0664329 ,  0.09057661,\n",
            "       -0.00596715,  0.01901211, -0.0548141 , -0.01610881,  0.01619812,\n",
            "       -0.04941504,  0.00307296, -0.01761078, -0.02434588,  0.01189355,\n",
            "       -0.09042844,  0.01868374,  0.03454009,  0.06594481,  0.00704499,\n",
            "       -0.03345837,  0.02575179,  0.04193394,  0.04619841, -0.02547566,\n",
            "        0.10241089, -0.03966602,  0.00339036, -0.01100777, -0.0164946 ,\n",
            "       -0.06447161, -0.03820373,  0.06332214, -0.03392161, -0.05382117,\n",
            "        0.02156034, -0.00384964,  0.04713409, -0.00439353, -0.02506564,\n",
            "        0.01027706,  0.03872295, -0.00905853, -0.01349945,  0.01574278,\n",
            "       -0.0993019 , -0.02341843,  0.09596109, -0.02311996,  0.04741919,\n",
            "        0.0300245 ,  0.05240418,  0.05510767,  0.1115045 ,  0.03585535,\n",
            "        0.06714516,  0.02735724, -0.04573477,  0.12547159,  0.02407729,\n",
            "       -0.03853163,  0.04739449,  0.02067438, -0.0253389 , -0.0058396 ,\n",
            "       -0.01689735,  0.00919141,  0.07950685,  0.09230144,  0.02141298,\n",
            "       -0.00132064, -0.01284748,  0.0823425 ,  0.04576181,  0.02062969,\n",
            "       -0.04604862, -0.05220355, -0.08276363,  0.1311475 , -0.0312878 ,\n",
            "        0.0114844 , -0.09276816, -0.07733857, -0.03303517, -0.10806172,\n",
            "        0.12254602,  0.01879891,  0.08769856, -0.01724811, -0.04820438,\n",
            "       -0.08522443, -0.04343092, -0.08149652, -0.02891442, -0.01590496,\n",
            "       -0.07252382, -0.00441589,  0.01173448, -0.10303201, -0.0297576 ,\n",
            "        0.10040496, -0.02773346, -0.05351384, -0.02479997, -0.03875418,\n",
            "        0.06182937,  0.13473642,  0.12780268,  0.00153191, -0.09484725,\n",
            "        0.00685088, -0.00705283, -0.04968802, -0.05973211, -0.03914484,\n",
            "       -0.03256826,  0.05516807, -0.02039315,  0.00965776,  0.00761153,\n",
            "       -0.01828435, -0.0188246 , -0.08363098, -0.06089959,  0.0291911 ,\n",
            "       -0.02036163, -0.06545364, -0.06153074,  0.00211211,  0.05415042,\n",
            "        0.02225901, -0.02276824, -0.00590874, -0.08941189,  0.03882454,\n",
            "       -0.04243073, -0.11164048, -0.04317667, -0.00136294,  0.10668721,\n",
            "       -0.08222704,  0.01040948, -0.03846104, -0.02823904, -0.0388742 ,\n",
            "        0.0200172 , -0.02064488,  0.08010464, -0.06941499,  0.16690286,\n",
            "       -0.13456501,  0.03307428,  0.0300108 ,  0.00452846, -0.06271237,\n",
            "       -0.0877006 , -0.01275486,  0.07493863,  0.05398763,  0.03153889,\n",
            "        0.00125574, -0.01486678,  0.09459449,  0.02542068, -0.12978487,\n",
            "       -0.0528512 , -0.10844602, -0.02464961, -0.05011183, -0.07495668,\n",
            "        0.00917212,  0.0492764 , -0.01914565,  0.02755583, -0.03117718,\n",
            "       -0.00834849,  0.08926561, -0.07704242, -0.12097032, -0.05568619,\n",
            "       -0.01658837, -0.05197626,  0.03650137,  0.0471945 ,  0.09681446,\n",
            "       -0.03370608,  0.1853457 , -0.01063434,  0.04042579,  0.06134127,\n",
            "       -0.10089826,  0.02774891, -0.05365549, -0.01419164, -0.0246645 ,\n",
            "       -0.00331839, -0.04704064, -0.07236852, -0.11703093, -0.02538943,\n",
            "       -0.02620434,  0.08117801,  0.0371163 ,  0.0622112 , -0.02829532,\n",
            "        0.05308885,  0.10943238,  0.04128911, -0.03359372,  0.08626871,\n",
            "       -0.06753077, -0.02009186, -0.0074244 , -0.05671273,  0.04903683,\n",
            "       -0.00537884, -0.10654278, -0.047163  , -0.04884536,  0.0638933 ,\n",
            "       -0.01696863, -0.02642988, -0.00810127, -0.01338451, -0.06763574,\n",
            "       -0.06697463,  0.09678614,  0.0867558 , -0.00661307,  0.11081754],\n",
            "      dtype=float32), array([0., 0., 0., 0., 0., 0., 0., 0., 0., 0., 0., 0., 0., 0., 0., 0., 0.,\n",
            "       0., 0., 0., 0., 0., 0., 0., 0., 0., 0., 0., 0., 0., 0., 0., 0., 0.,\n",
            "       0., 0., 0., 0., 0., 0., 0., 0., 0., 0., 0., 0., 0., 0., 0., 0., 0.,\n",
            "       0., 0., 0., 0., 0., 0., 0., 0., 0., 0., 0., 0., 0., 0., 0., 0., 0.,\n",
            "       0., 0., 0., 0., 0., 0., 0., 0., 0., 0., 0., 0., 0., 0., 0., 0., 0.,\n",
            "       0., 0., 0., 0., 0., 0., 0., 0., 0., 0., 0., 0., 0., 0., 0., 0., 0.,\n",
            "       0., 0., 0., 0., 0., 0., 0., 0., 0., 0., 0., 0., 0., 0., 0., 0., 0.,\n",
            "       0., 0., 0., 0., 0., 0., 0., 0., 0., 0., 0., 0., 0., 0., 0., 0., 0.,\n",
            "       0., 0., 0., 0., 0., 0., 0., 0., 0., 0., 0., 0., 0., 0., 0., 0., 0.,\n",
            "       0., 0., 0., 0., 0., 0., 0., 0., 0., 0., 0., 0., 0., 0., 0., 0., 0.,\n",
            "       0., 0., 0., 0., 0., 0., 0., 0., 0., 0., 0., 0., 0., 0., 0., 0., 0.,\n",
            "       0., 0., 0., 0., 0., 0., 0., 0., 0., 0., 0., 0., 0., 0., 0., 0., 0.,\n",
            "       0., 0., 0., 0., 0., 0., 0., 0., 0., 0., 0., 0., 0., 0., 0., 0., 0.,\n",
            "       0., 0., 0., 0., 0., 0., 0., 0., 0., 0., 0., 0., 0., 0., 0., 0., 0.,\n",
            "       0., 0., 0., 0., 0., 0., 0., 0., 0., 0., 0., 0., 0., 0., 0., 0., 0.,\n",
            "       0., 0., 0., 0., 0., 0., 0., 0., 0., 0., 0., 0., 0., 0., 0., 0., 0.,\n",
            "       0., 0., 0., 0., 0., 0., 0., 0., 0., 0., 0., 0., 0., 0., 0., 0., 0.,\n",
            "       0., 0., 0., 0., 0., 0., 0., 0., 0., 0., 0.])]\n"
          ]
        }
      ]
    },
    {
      "cell_type": "code",
      "source": [
        "print(vector_text)"
      ],
      "metadata": {
        "id": "fgqQngwRxJR0",
        "colab": {
          "base_uri": "https://localhost:8080/"
        },
        "outputId": "a4202aa8-9e29-4261-8aba-ad9565cb6b4d"
      },
      "execution_count": null,
      "outputs": [
        {
          "output_type": "stream",
          "name": "stdout",
          "text": [
            "[-7.23793755e-02 -3.65346049e-03  1.49774142e-02  7.54638544e-03\n",
            " -1.19348569e-02 -2.31060667e-02  9.22187977e-03  9.52869281e-03\n",
            " -2.23265849e-02 -3.11003129e-03 -7.76530926e-03 -2.89029796e-02\n",
            "  5.83873466e-02  2.21828558e-03  1.23262753e-02 -1.62550230e-02\n",
            "  3.03303512e-02  1.29657254e-02 -3.85678171e-03 -1.78095748e-02\n",
            " -7.83780590e-03 -1.12617649e-02  1.16164486e-03  3.36692544e-02\n",
            " -2.79939914e-02 -2.76326823e-02 -1.60648624e-02  4.04443393e-02\n",
            " -3.67421086e-02 -6.21415352e-02 -3.01132913e-02  9.18867315e-03\n",
            "  1.09648821e-02  4.99091111e-03  1.44553122e-02  1.99584290e-03\n",
            "  4.19224147e-04 -1.34673944e-02  5.92786819e-03 -2.35241229e-02\n",
            "  1.33819568e-02  1.89528183e-02 -3.25611023e-02 -3.45706878e-03\n",
            "  3.19507591e-02  1.03188014e-02  1.94315246e-02 -1.94793034e-02\n",
            "  2.81751975e-02 -3.38965377e-02 -1.26512274e-02  6.02087354e-02\n",
            "  2.44842845e-02  2.13540588e-02 -2.02998444e-02  1.05534028e-03\n",
            " -3.11313610e-02 -1.36962188e-02 -7.87467708e-02  3.21254351e-03\n",
            "  8.54042483e-03 -3.51230806e-02  1.43878898e-02 -3.45065317e-02\n",
            "  7.45716766e-02 -2.19226486e-02 -3.74611855e-02  4.10765195e-02\n",
            "  3.26597259e-02 -1.62657568e-02 -1.31872880e-02 -7.46639694e-03\n",
            " -4.19802964e-05 -3.05632533e-02  3.76749150e-02  1.49836869e-02\n",
            "  2.84377417e-02 -4.14775076e-02 -7.32957525e-03  1.60414899e-02\n",
            " -7.54009249e-03  1.88681807e-02  1.22862402e-02  5.17477592e-04\n",
            " -1.96565408e-02  4.77805734e-03 -1.60655628e-02  6.90499693e-03\n",
            "  7.00312108e-02  2.41143183e-02 -5.80557622e-03  1.76832452e-03\n",
            "  2.63398774e-02  5.23317667e-03  2.79586756e-02  3.96362984e-02\n",
            " -5.34005029e-03 -2.23959540e-03 -2.53398130e-02 -4.31754769e-02\n",
            " -6.14025394e-02 -1.45984163e-02  2.65805727e-02 -8.55883087e-03\n",
            " -2.08872591e-02  3.15222001e-02 -1.18472620e-03  2.87656213e-02\n",
            "  1.92692316e-02 -4.97052725e-03  2.75543969e-03  1.59575163e-02\n",
            " -1.10245071e-02 -2.83916043e-02 -2.30593712e-02 -1.49118776e-02\n",
            " -5.02487024e-04  3.50718051e-02 -2.10624809e-04  1.45987585e-02\n",
            "  3.86061656e-02 -1.09331558e-03 -2.05443464e-02  4.49370661e-02\n",
            " -1.53379117e-02  1.75498566e-02  2.02432486e-02 -5.11314596e-03\n",
            "  4.93368997e-02 -3.54018062e-03 -3.42124738e-02  4.02610252e-02\n",
            "  5.92431356e-03 -1.76449896e-02 -9.33569344e-03 -1.88579634e-02\n",
            " -7.67603517e-03  4.25788226e-02  4.46372740e-02  1.92642262e-02\n",
            "  8.17044405e-03  1.98375778e-02  2.78125096e-02  1.80439691e-02\n",
            "  2.38459961e-02 -2.63401642e-02 -3.63446188e-02 -2.42185534e-02\n",
            "  1.52964219e-02 -3.79090446e-03  1.16277247e-02 -4.25656935e-02\n",
            " -3.30777907e-02 -1.49147113e-02 -3.00710710e-02  3.88882581e-02\n",
            "  1.37521029e-02  3.35353613e-03 -1.39814944e-02 -8.23621514e-03\n",
            " -5.33390542e-02 -2.62314292e-02 -4.99410182e-03 -1.70258079e-02\n",
            "  2.75379059e-02 -3.84188046e-02  6.48380335e-03  1.62223813e-02\n",
            " -3.26130961e-02 -2.57625965e-02  2.68188044e-02 -8.34126918e-03\n",
            " -2.02498885e-02  2.00132399e-02  9.22980035e-03 -1.05677657e-02\n",
            "  6.13944319e-02  7.01533283e-02 -3.95010284e-03 -3.33899173e-02\n",
            "  1.66159713e-02  2.74354032e-02 -2.08114277e-02 -1.07507290e-02\n",
            " -2.41491906e-02  3.67010136e-03  3.35992090e-02  3.79720827e-03\n",
            " -2.90501115e-02 -2.00346089e-02 -3.78447132e-02 -9.23184119e-03\n",
            " -4.15089950e-02 -3.72809234e-02  1.82165392e-02  1.25567578e-02\n",
            " -4.85383347e-03 -3.79689597e-02 -8.54429199e-03  4.21735458e-02\n",
            "  4.29720680e-03 -4.88915543e-03  9.77307636e-03 -6.95723916e-02\n",
            "  1.90517555e-04 -4.17848490e-02 -6.65923109e-02 -8.98663886e-03\n",
            "  8.50546453e-03  2.27647635e-02 -3.60076129e-02 -2.75759368e-03\n",
            " -3.10569890e-02 -2.82540390e-02 -1.95889585e-02  1.84953337e-02\n",
            "  3.83486667e-02  5.35126130e-02 -1.67175916e-02  7.50254430e-02\n",
            " -6.16009099e-02  1.18502110e-02 -7.77428349e-03  1.51130684e-02\n",
            "  1.86806569e-02 -5.39196630e-02  2.06901211e-02  7.37509479e-02\n",
            "  2.02405141e-02  3.88586832e-03  4.08789786e-04 -1.20297285e-02\n",
            "  3.21008443e-02  2.02343098e-02 -9.84842976e-02 -1.92309896e-02\n",
            " -3.21007048e-02  2.06003084e-02 -6.91157940e-02  8.71812304e-04\n",
            "  2.08974537e-02  2.03329346e-02 -3.14918533e-02 -2.31429127e-03\n",
            " -1.56880077e-02  2.05665634e-02  5.62900181e-02 -3.93157415e-02\n",
            " -4.52228455e-02 -6.02218732e-02 -1.95613454e-02 -4.54350710e-02\n",
            " -1.09250421e-02  3.29420455e-02  3.90504822e-02 -2.70186750e-02\n",
            "  9.23009540e-02 -2.34132055e-02  5.01462333e-02  2.89540446e-02\n",
            " -3.65299154e-02  6.66205616e-03 -1.25640010e-03 -1.62698763e-03\n",
            " -1.98826206e-02  4.33524620e-02 -1.28792481e-02 -3.56285237e-02\n",
            " -5.05790499e-02 -4.09296360e-02 -1.72275951e-02  2.24129812e-02\n",
            "  1.27932678e-03  5.19635354e-02  2.14128072e-03  2.70513395e-02\n",
            "  3.86727011e-02  2.62106595e-02 -2.22783188e-02 -3.69350364e-03\n",
            " -4.60857799e-02 -3.00660282e-02  9.76605558e-03 -2.76615694e-02\n",
            "  3.57786492e-02 -2.65286059e-02 -2.99777010e-02 -4.51773256e-02\n",
            " -7.04791173e-02  3.72805148e-02  1.38081051e-02 -4.37098518e-02\n",
            " -1.52492003e-03  3.89005058e-03 -9.73530735e-03 -3.68810172e-02\n",
            "  5.12048056e-02  3.11091340e-02 -1.22845573e-02  4.53221972e-02]\n"
          ]
        }
      ]
    },
    {
      "cell_type": "code",
      "source": [
        "#размерность вектора для одного текста (любое кол-во слов) будет 300\n",
        "vector_text.shape"
      ],
      "metadata": {
        "colab": {
          "base_uri": "https://localhost:8080/"
        },
        "id": "vvDhWDv_zO1X",
        "outputId": "bf9905c5-e228-46b5-b39c-caf12b70553f"
      },
      "execution_count": null,
      "outputs": [
        {
          "output_type": "execute_result",
          "data": {
            "text/plain": [
              "(300,)"
            ]
          },
          "metadata": {},
          "execution_count": 21
        }
      ]
    },
    {
      "cell_type": "markdown",
      "source": [
        "# Домашнее задание"
      ],
      "metadata": {
        "id": "JhTbQrNHxQCg"
      }
    },
    {
      "cell_type": "markdown",
      "source": [
        "1. Использовать предобработанные тексты выбранного корпуса\n",
        "2. Извлечь вектора BoW, TF-IDF, Word2Vec\n",
        "3. *Сохранить полученные вектора отдельным файлом (.npy / .csv)\n",
        "4. ** Предсказать сентимент отзывов используя тональные словари\n",
        "** - по желанию"
      ],
      "metadata": {
        "id": "u_c0SqoyxVlA"
      }
    },
    {
      "cell_type": "code",
      "source": [
        "import numpy as np\n",
        "import pandas as pd\n",
        "from sklearn.feature_extraction.text import CountVectorizer, TfidfVectorizer\n",
        "import gensim.downloader as api\n",
        "from collections import defaultdict"
      ],
      "metadata": {
        "id": "UyxpjO7qy0b9"
      },
      "execution_count": 3,
      "outputs": []
    },
    {
      "cell_type": "code",
      "source": [
        "from google.colab import drive\n",
        "drive.mount('/content/drive')"
      ],
      "metadata": {
        "colab": {
          "base_uri": "https://localhost:8080/"
        },
        "id": "MVDrYs-Hy1K8",
        "outputId": "43b02c56-227c-4778-a661-59ab8bf18455"
      },
      "execution_count": 4,
      "outputs": [
        {
          "output_type": "stream",
          "name": "stdout",
          "text": [
            "Mounted at /content/drive\n"
          ]
        }
      ]
    },
    {
      "cell_type": "code",
      "source": [
        "# Загружаем датасет\n",
        "data = pd.read_csv('/content/drive/MyDrive/posts_IS_cleaned.csv')"
      ],
      "metadata": {
        "id": "Ann9j934y4VO"
      },
      "execution_count": 15,
      "outputs": []
    },
    {
      "cell_type": "code",
      "source": [
        "# Извлекаем предобработанные тексты\n",
        "corpus = data[\"text\"].astype(str).tolist()"
      ],
      "metadata": {
        "id": "9jVQ0ZtBzJMY"
      },
      "execution_count": 16,
      "outputs": []
    },
    {
      "cell_type": "code",
      "source": [
        "# BoW (Bag of Words)\n",
        "bow_vectorizer = CountVectorizer()\n",
        "X_bow = bow_vectorizer.fit_transform(corpus)\n",
        "X_bow_dense = X_bow.toarray()"
      ],
      "metadata": {
        "id": "--LHN5zMzOtM"
      },
      "execution_count": 18,
      "outputs": []
    },
    {
      "cell_type": "code",
      "source": [
        "print(\"Форма матрицы:\", X_bow.shape)\n",
        "print(\"Первые 5 строк BoW-матрицы:\")\n",
        "print(X_bow_dense[:5])"
      ],
      "metadata": {
        "colab": {
          "base_uri": "https://localhost:8080/"
        },
        "id": "c6mfZlpm4Qgn",
        "outputId": "26bc292b-af4a-47b6-f692-625d5055055a"
      },
      "execution_count": 40,
      "outputs": [
        {
          "output_type": "stream",
          "name": "stdout",
          "text": [
            "Форма матрицы: (9142, 24643)\n",
            "Первые 5 строк BoW-матрицы:\n",
            "[[0 0 0 ... 0 0 0]\n",
            " [0 0 0 ... 0 0 0]\n",
            " [0 0 0 ... 0 0 0]\n",
            " [0 0 0 ... 0 0 0]\n",
            " [0 0 0 ... 0 0 0]]\n"
          ]
        }
      ]
    },
    {
      "cell_type": "code",
      "source": [
        "# TF-IDF\n",
        "tfidf_vectorizer = TfidfVectorizer()\n",
        "X_tfidf = tfidf_vectorizer.fit_transform(corpus)\n",
        "X_tfidf_dense = X_tfidf.toarray()"
      ],
      "metadata": {
        "id": "MdhiB9ZUzPoD"
      },
      "execution_count": 20,
      "outputs": []
    },
    {
      "cell_type": "code",
      "source": [
        "print(\"Форма матрицы:\", X_bow_dense.shape)\n",
        "print(\"Первые 5 строк BoW-матрицы:\")\n",
        "print(X_bow_dense[:5])"
      ],
      "metadata": {
        "colab": {
          "base_uri": "https://localhost:8080/"
        },
        "id": "Hm57hA2G3KxX",
        "outputId": "042937bf-7349-45be-ceb3-1cf4ac0f81e9"
      },
      "execution_count": 31,
      "outputs": [
        {
          "output_type": "stream",
          "name": "stdout",
          "text": [
            "Форма матрицы: (9142, 24643)\n",
            "Первые 5 строк BoW-матрицы:\n",
            "[[0 0 0 ... 0 0 0]\n",
            " [0 0 0 ... 0 0 0]\n",
            " [0 0 0 ... 0 0 0]\n",
            " [0 0 0 ... 0 0 0]\n",
            " [0 0 0 ... 0 0 0]]\n"
          ]
        }
      ]
    },
    {
      "cell_type": "code",
      "source": [
        "# Word2Vec\n",
        "# Загружаем предобученную модель\n",
        "wv = api.load('word2vec-ruscorpora-300')"
      ],
      "metadata": {
        "colab": {
          "base_uri": "https://localhost:8080/"
        },
        "id": "3WTtVaG3zQnB",
        "outputId": "a82f04ba-6557-4f4a-df9b-72f004114222"
      },
      "execution_count": 23,
      "outputs": [
        {
          "output_type": "stream",
          "name": "stdout",
          "text": [
            "[==================================================] 100.0% 198.8/198.8MB downloaded\n"
          ]
        }
      ]
    },
    {
      "cell_type": "code",
      "source": [
        "# Подготовим список слов (без части речи)\n",
        "vocab = []\n",
        "for w in list(wv.index_to_key):\n",
        "    vocab.append(w.split('_')[0])\n",
        "\n",
        "vocab_set = set(vocab)"
      ],
      "metadata": {
        "id": "rVQizW0rzUnh"
      },
      "execution_count": 24,
      "outputs": []
    },
    {
      "cell_type": "code",
      "source": [
        "def text_to_w2v_vector(text):\n",
        "    tokens = text.split()\n",
        "    vectors = []\n",
        "    for token in tokens:\n",
        "        if token in vocab_set:\n",
        "            full_word = wv.index_to_key[vocab.index(token)]\n",
        "            vectors.append(wv[full_word])\n",
        "        else:\n",
        "            vectors.append(np.zeros(300, dtype=np.float32))\n",
        "    if len(vectors) == 0:\n",
        "        return np.zeros(300, dtype=np.float32)  # если совсем нет слов\n",
        "    return np.mean(vectors, axis=0)"
      ],
      "metadata": {
        "id": "Bf7ihEg_zXy2"
      },
      "execution_count": 25,
      "outputs": []
    },
    {
      "cell_type": "code",
      "source": [
        "# Применяем к каждому документу (каждому посту)\n",
        "X_w2v = []\n",
        "for text in corpus:\n",
        "    vec = text_to_w2v_vector(text)\n",
        "    X_w2v.append(vec)\n",
        "\n",
        "# Преобразуем в numpy-массив\n",
        "X_w2v = np.array(X_w2v)\n",
        "print(\"Форма Word2Vec-массива:\", X_w2v.shape)"
      ],
      "metadata": {
        "colab": {
          "base_uri": "https://localhost:8080/"
        },
        "id": "Ef5bL12Gz8TD",
        "outputId": "b6577f4b-6ae6-4793-94ed-f5b92199cecf"
      },
      "execution_count": 26,
      "outputs": [
        {
          "output_type": "stream",
          "name": "stdout",
          "text": [
            "Форма Word2Vec-массива: (9142, 300)\n"
          ]
        }
      ]
    },
    {
      "cell_type": "code",
      "source": [
        "print(X_w2v[:5])"
      ],
      "metadata": {
        "colab": {
          "base_uri": "https://localhost:8080/"
        },
        "id": "eW22ezTf4lYw",
        "outputId": "2190dc3f-08ea-44b8-f14e-c482b0e12fc3"
      },
      "execution_count": 37,
      "outputs": [
        {
          "output_type": "stream",
          "name": "stdout",
          "text": [
            "[[ 7.22003682e-03  4.84651281e-03  6.99223112e-03 ...  2.12608855e-02\n",
            "  -2.95639690e-02 -3.09512648e-03]\n",
            " [ 4.11289977e-03 -6.38298737e-03 -6.06956566e-03 ...  5.56619931e-03\n",
            "  -3.32856253e-02 -1.86925866e-02]\n",
            " [ 6.01937342e-03 -9.82913189e-03 -1.09116752e-02 ...  1.34637440e-02\n",
            "  -3.29691023e-02 -1.24787735e-02]\n",
            " [ 2.20667776e-02 -4.77396976e-03  2.95607260e-05 ...  1.58626661e-02\n",
            "  -3.72815058e-02 -5.92015916e-03]\n",
            " [ 2.49236245e-02 -8.24926514e-03 -1.38073089e-02 ...  1.03889788e-02\n",
            "  -3.37651074e-02 -2.34523937e-02]]\n"
          ]
        }
      ]
    },
    {
      "cell_type": "code",
      "source": [
        "# Сохранение векторов\n",
        "np.save(\"/content/drive/MyDrive/bow_vectors.npy\", X_bow_dense)\n",
        "np.save(\"/content/drive/MyDrive/tfidf_vectors.npy\", X_tfidf_dense)\n",
        "np.save(\"/content/drive/MyDrive/w2v_vectors.npy\", X_w2v)\n",
        "\n",
        "print(\"Вектора BoW, TF-IDF, Word2Vec сохранены как .npy файлы.\")"
      ],
      "metadata": {
        "colab": {
          "base_uri": "https://localhost:8080/"
        },
        "id": "8Wbt-Rc92MCg",
        "outputId": "5b5f7829-7f19-41cb-ce39-b35d24e1fa1b"
      },
      "execution_count": 38,
      "outputs": [
        {
          "output_type": "stream",
          "name": "stdout",
          "text": [
            "Вектора BoW, TF-IDF, Word2Vec сохранены как .npy файлы.\n"
          ]
        }
      ]
    }
  ]
}