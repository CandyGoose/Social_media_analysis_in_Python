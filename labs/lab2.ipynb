{
  "cells": [
    {
      "cell_type": "code",
      "execution_count": 1,
      "id": "yuIJQHXc9ThU",
      "metadata": {
        "id": "yuIJQHXc9ThU"
      },
      "outputs": [],
      "source": [
        "!pip install vk_api > None"
      ]
    },
    {
      "cell_type": "code",
      "execution_count": 2,
      "id": "2e023e69",
      "metadata": {
        "id": "2e023e69"
      },
      "outputs": [],
      "source": [
        "from vk_api import VkApi\n",
        "from vk_api.utils import get_random_id\n",
        "import requests\n",
        "import json\n",
        "import pandas as pd\n",
        "from tqdm import trange\n",
        "import time\n",
        "import numpy as np\n",
        "import requests\n",
        "import warnings\n",
        "#warnings.simplefilter(\"ignore\")"
      ]
    },
    {
      "cell_type": "code",
      "execution_count": 3,
      "id": "Mtaq_Va3ExI3",
      "metadata": {
        "colab": {
          "base_uri": "https://localhost:8080/"
        },
        "id": "Mtaq_Va3ExI3",
        "outputId": "e77e43c1-a3eb-4c98-ce14-27017e5f2eec"
      },
      "outputs": [
        {
          "name": "stdout",
          "output_type": "stream",
          "text": [
            "Mounted at /content/drive\n"
          ]
        }
      ],
      "source": [
        "from google.colab import drive\n",
        "drive.mount('/content/drive')"
      ]
    },
    {
      "cell_type": "code",
      "execution_count": null,
      "id": "ddb6ea1d",
      "metadata": {
        "id": "ddb6ea1d"
      },
      "outputs": [],
      "source": [
        "VK_TOKEN = 'VK_TOKEN'"
      ]
    },
    {
      "cell_type": "markdown",
      "id": "6wDSuABz-Tf-",
      "metadata": {
        "id": "6wDSuABz-Tf-"
      },
      "source": [
        "Функция сбора данных поста вк, чтобы проверить работу вк api"
      ]
    },
    {
      "cell_type": "code",
      "execution_count": 5,
      "id": "4b1cdf1d",
      "metadata": {
        "colab": {
          "base_uri": "https://localhost:8080/"
        },
        "id": "4b1cdf1d",
        "outputId": "721db439-4b7a-440e-9ac0-169e6e51eb45"
      },
      "outputs": [
        {
          "name": "stdout",
          "output_type": "stream",
          "text": [
            "{'error': {'error_code': 5, 'error_subcode': 1130, 'error_msg': 'User authorization failed: access_token was given to another ip address', 'error_text': 'Failed to connect to\\xa0network. Please close the\\xa0page and\\xa0try again.', 'request_params': [{'key': 'owner_id', 'value': '-2499902'}, {'key': 'v', 'value': '5.199'}, {'key': 'offset', 'value': '0'}, {'key': 'count', 'value': '1'}, {'key': 'method', 'value': 'wall.get'}, {'key': 'oauth', 'value': '1'}], 'view': 'alert'}}\n"
          ]
        }
      ],
      "source": [
        "owner_id = '-2499902', # id сообщества указывается со знаком - перед цифрами\n",
        "offset = 0, #смещение (сколько постов надо пропустить, чтобы начать сбор)\n",
        "count = 1 # сколько постов получить. максимум можно получить 100\n",
        "v = 5.199\n",
        "\n",
        "def get_wall_posts(VK_TOKEN: str, owner_id: str, offset: int, count: int, v: float) -> dict:\n",
        "    url = 'https://api.vk.com/method/wall.get' #метод wall.get позволяет получать записи со стены\n",
        "    params = {\n",
        "        'access_token': VK_TOKEN, # ваш токен\n",
        "        'owner_id': owner_id,\n",
        "        'v': v,\n",
        "        'offset': offset,\n",
        "        'count': count\n",
        "    }\n",
        "\n",
        "    response = requests.get(url, params=params)\n",
        "    return response.json()\n",
        "\n",
        "wall_posts = get_wall_posts(VK_TOKEN, owner_id, offset, count, v)\n",
        "print(wall_posts)"
      ]
    },
    {
      "cell_type": "markdown",
      "id": "c83ae0d9",
      "metadata": {
        "id": "c83ae0d9"
      },
      "source": [
        "# собираем бд из сообществ вк"
      ]
    },
    {
      "cell_type": "code",
      "execution_count": null,
      "id": "f8facf7e",
      "metadata": {
        "id": "f8facf7e"
      },
      "outputs": [],
      "source": [
        "#создаем пустой DF для сбора данных\n",
        "data_posts = pd.DataFrame(columns = ['id_group', 'id_post', 'data', 'description', 'title', 'text', 'views', 'likes', 'reposts'])"
      ]
    },
    {
      "cell_type": "code",
      "execution_count": null,
      "id": "s2EYeqTB_csG",
      "metadata": {
        "id": "s2EYeqTB_csG"
      },
      "outputs": [],
      "source": [
        "def get_wall_posts(VK_TOKEN: str, owner_id: str, offset: int, count: int, v: float) -> dict:\n",
        "    url = 'https://api.vk.com/method/wall.get' #метод wall.get позволяет получать записи со стены\n",
        "    params = {\n",
        "        'access_token': VK_TOKEN, # ваш токен\n",
        "        'owner_id': owner_id,\n",
        "        'v': v,\n",
        "        'offset': offset,\n",
        "        'count': count\n",
        "    }\n",
        "\n",
        "    response = requests.get(url, params=params)\n",
        "    return response.json()"
      ]
    },
    {
      "cell_type": "code",
      "execution_count": null,
      "id": "uvAnRhVE-8uG",
      "metadata": {
        "colab": {
          "base_uri": "https://localhost:8080/"
        },
        "id": "uvAnRhVE-8uG",
        "outputId": "7825a2cc-b34b-44b1-d0d4-b0bcdc83deba"
      },
      "outputs": [
        {
          "name": "stdout",
          "output_type": "stream",
          "text": [
            "кол-во постов сообщества -  243835\n"
          ]
        }
      ],
      "source": [
        "#заменить id сообщества на свое\n",
        "owner_id = '-15755094', # id сообщества указывается со знаком - перед цифрами\n",
        "offset = 0, #смещение (сколько постов надо пропустить, чтобы начать сбор)\n",
        "count = 100 # сколько постов получить. максимум можно получить 100\n",
        "v = 5.199\n",
        "\n",
        "wall_posts = get_wall_posts(VK_TOKEN, owner_id, offset, count, v)\n",
        "\n",
        "#получаем кол-во всех постов в сообществе\n",
        "count_posts = wall_posts['response']['count']\n",
        "print('кол-во постов сообщества - ', count_posts)"
      ]
    },
    {
      "cell_type": "code",
      "execution_count": null,
      "id": "BW1FJhUW_5K-",
      "metadata": {
        "colab": {
          "base_uri": "https://localhost:8080/"
        },
        "id": "BW1FJhUW_5K-",
        "outputId": "59fbdd68-a4d5-4445-f247-0c23359e483e"
      },
      "outputs": [
        {
          "name": "stderr",
          "output_type": "stream",
          "text": [
            "  4%|▍         | 104/2439 [20:38<14:10:16, 21.85s/it]"
          ]
        }
      ],
      "source": [
        "posts_number_of_collection = count_posts #кол-во постов для сбора. Если необходимо собрать определенное значение, то заменить count_post на необходимое число (int)\n",
        "start_post = 0 #счетчик постов откуда будет отсчет сбора данных (начиная с недавних постов)\n",
        "\n",
        "#если прервалось выполнение кода, то раскоментить эти строчки и запустить заново весь код\n",
        "#start_post = post * 100 #значение post заменить на число из прогрессбара внизу ячейки (кол-во отобранных постов)\n",
        "#data_posts = pd.read_csv('') #в кавычках прописать путь где лежит сохраненный частично заполненный DF. Например, '/content/drive/MyDrive/Data/posts_ria_news.csv'\n",
        "\n",
        "for offset in trange(start_post, posts_number_of_collection, 100):\n",
        "  wall_posts = get_wall_posts(VK_TOKEN, owner_id, offset, count, v) #получаем данные 100 постов\n",
        "  id_row_df = len(data_posts) #счетчик строк DF\n",
        "  for post in range(len(wall_posts['response']['items'])): #проходимся по каждому из 100 постов и вычлиняем информацию из json для записи ее в DF\n",
        "    #описание и заголовок бывают у ссылок, видео, изображениий.\n",
        "    #если что то такое есть в посте, то это будут записаны описание и заголовок, если нет, то будет пустая строка\n",
        "    description, title = '',''\n",
        "    for element in ['link', 'video', 'photo']:\n",
        "      try:\n",
        "        description = wall_posts['response']['items'][post]['attachments'][0][element]['description']\n",
        "        title = wall_posts['response']['items'][post]['attachments'][0][element]['title']\n",
        "      except:\n",
        "        continue\n",
        "    #эта конструкция нужна для тех постов времен динозавров когда еще не отображалось кол-во просмотров поста\n",
        "    try:\n",
        "      views =  int(wall_posts['response']['items'][post]['views']['count'])\n",
        "    except:\n",
        "      views = np.nan\n",
        "    #собираем список необходимой информации для записи в DF\n",
        "    list_inform = [wall_posts['response']['items'][post]['owner_id'], #id сообщества\n",
        "                   wall_posts['response']['items'][post]['id'], #id поста\n",
        "                   wall_posts['response']['items'][post]['date'], #дату поста\n",
        "                   description, #описание видео, ссылки, изображения если есть\n",
        "                   title, #заголовок видео, ссылки, изображения если есть\n",
        "                   wall_posts['response']['items'][post]['text'], #текст поста\n",
        "                   views, #кол-во просмотров поста\n",
        "                   wall_posts['response']['items'][post]['likes']['count'], #кол-во лайков\n",
        "                   wall_posts['response']['items'][post]['reposts']['count'] #кол-во репостов\n",
        "                   ]\n",
        "    #если пост есть в датафрейме (проверяем по id поста), то перезаписываем в ту же строчку. кол-во лайков могло со временем измениться\n",
        "    if wall_posts['response']['items'][post]['id'] in list(data_posts['id_post']):\n",
        "      index = data_posts[data_posts['id_post'] == wall_posts['response']['items'][post]['id']].index[0] #записываем индекс этого поста в датафрейме\n",
        "      data_posts.loc[index] = list_inform #перезаписываем строку по найденному индексу\n",
        "    else: #если поста нет в DF, то записываем его в новую строку\n",
        "      data_posts.loc[id_row_df] = list_inform\n",
        "      id_row_df += 1 #обновляем индекс строки для следующих записей в DF\n",
        "    data_posts.to_csv('/content/drive/MyDrive/Data/posts_ria_news.csv', index = False) #сохраняем DF кажду итерацию, чтобы можно было востановить сбор без потерь данных и времени"
      ]
    },
    {
      "cell_type": "code",
      "execution_count": null,
      "id": "UQf2-FgCAUDc",
      "metadata": {
        "id": "UQf2-FgCAUDc"
      },
      "outputs": [],
      "source": []
    }
  ],
  "metadata": {
    "colab": {
      "provenance": []
    },
    "kernelspec": {
      "display_name": "Python 3 (ipykernel)",
      "language": "python",
      "name": "python3"
    },
    "language_info": {
      "codemirror_mode": {
        "name": "ipython",
        "version": 3
      },
      "file_extension": ".py",
      "mimetype": "text/x-python",
      "name": "python",
      "nbconvert_exporter": "python",
      "pygments_lexer": "ipython3",
      "version": "3.9.18"
    }
  },
  "nbformat": 4,
  "nbformat_minor": 5
}
