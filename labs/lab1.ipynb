{
  "nbformat": 4,
  "nbformat_minor": 0,
  "metadata": {
    "colab": {
      "provenance": [],
      "toc_visible": true
    },
    "kernelspec": {
      "name": "python3",
      "display_name": "Python 3"
    },
    "language_info": {
      "name": "python"
    }
  },
  "cells": [
    {
      "cell_type": "markdown",
      "source": [
        "# Типы данных Python"
      ],
      "metadata": {
        "id": "_2DyrlRJTrNj"
      }
    },
    {
      "cell_type": "markdown",
      "source": [
        "## Числа"
      ],
      "metadata": {
        "id": "jYob5NObVncq"
      }
    },
    {
      "cell_type": "code",
      "source": [
        "a = 5\n",
        "b = 10.5\n",
        "\n",
        "#сложение\n",
        "print(a+b, ' сложение')\n",
        "\n",
        "#умножение\n",
        "print(a*b, ' умножение')\n",
        "\n",
        "#возведение в степень\n",
        "print(a**2, ' возведение в степень')\n",
        "\n",
        "#деление\n",
        "print(b/a, ' деление')\n",
        "\n",
        "#деление (целая часть)\n",
        "print(b//a, ' деление (целая часть)')\n",
        "\n",
        "#деление (дробная часть)\n",
        "print(b%a, ' деление (дробная часть)')"
      ],
      "metadata": {
        "colab": {
          "base_uri": "https://localhost:8080/"
        },
        "id": "sWZ-jym3Uiix",
        "outputId": "fe6af4c8-3682-4503-fed0-f4fbf9b87a94"
      },
      "execution_count": null,
      "outputs": [
        {
          "output_type": "stream",
          "name": "stdout",
          "text": [
            "15.5  сложение\n",
            "52.5  умножение\n",
            "25  возведение в степень\n",
            "2.1  деление\n",
            "2.0  деление (целая часть)\n",
            "0.5  деление (дробная часть)\n"
          ]
        }
      ]
    },
    {
      "cell_type": "markdown",
      "source": [
        "## Строки"
      ],
      "metadata": {
        "id": "FvatOQcmVrby"
      }
    },
    {
      "cell_type": "markdown",
      "source": [
        "Строки (string) — это последовательности символов"
      ],
      "metadata": {
        "id": "8umyZ6GKW55j"
      }
    },
    {
      "cell_type": "code",
      "source": [
        "first_str = 'кот'\n",
        "second_str = 'пес'\n",
        "\n",
        "#конкатенация строк\n",
        "some_string = first_str + 'о' + second_str\n",
        "print('конкатенация:', some_string)\n",
        "\n",
        "#длина строки\n",
        "length = len(some_string)\n",
        "print('длина строки:', length)\n",
        "\n",
        "#первый символ строки\n",
        "first_symbol = some_string[0]\n",
        "print('первый символ строки:', first_symbol)\n",
        "\n",
        "#последний символ строки\n",
        "last_symbol = some_string[-1]\n",
        "print('последний символ строки:', last_symbol)\n",
        "\n",
        "#срез строки с первого по третий символ\n",
        "cat_slice = some_string[0:3]\n",
        "print('срез строки:', cat_slice)\n",
        "\n",
        "#разделить строку по определенному символу\n",
        "list_substring = some_string.split('о')\n",
        "print(list_substring)"
      ],
      "metadata": {
        "colab": {
          "base_uri": "https://localhost:8080/"
        },
        "id": "fOLsuBaqVLTK",
        "outputId": "044e0672-9791-4932-f819-7809fbb2697f"
      },
      "execution_count": null,
      "outputs": [
        {
          "output_type": "stream",
          "name": "stdout",
          "text": [
            "конкатенация: котопес\n",
            "длина строки: 7\n",
            "первый символ строки: к\n",
            "последний символ строки: с\n",
            "срез строки: кот\n",
            "['к', 'т', 'пес']\n"
          ]
        }
      ]
    },
    {
      "cell_type": "markdown",
      "source": [
        "## Списки"
      ],
      "metadata": {
        "id": "-qVkx4KNWvci"
      }
    },
    {
      "cell_type": "markdown",
      "source": [
        "Список (list) — это упорядоченная коллекция объектов. Списки могут иметь сколько угодно уровней вложенности и хранить неограниченное количество объектов. Кроме того, в одном списке могут одновременно храниться объекты разных типов."
      ],
      "metadata": {
        "id": "KyImlpIqW-bS"
      }
    },
    {
      "cell_type": "markdown",
      "source": [
        "Над списками можно производить те же операции, что и над строками:"
      ],
      "metadata": {
        "id": "tOp5tWssXiri"
      }
    },
    {
      "cell_type": "code",
      "source": [
        "some_list = ['к', 'о', 'т', 'о', 'п', 'е', 'с', 2]\n",
        "\n",
        "#первый символ списка\n",
        "first_list_symbol = some_list[0]\n",
        "print('первый символ списка:', first_list_symbol)"
      ],
      "metadata": {
        "colab": {
          "base_uri": "https://localhost:8080/"
        },
        "id": "4DyDg5UZWxUz",
        "outputId": "37a8bd2c-ba23-4a88-d477-4e8c8e778d54"
      },
      "execution_count": null,
      "outputs": [
        {
          "output_type": "stream",
          "name": "stdout",
          "text": [
            "первый символ списка: к\n"
          ]
        }
      ]
    },
    {
      "cell_type": "code",
      "source": [
        "#методы списков\n",
        "\n",
        "#добавить новый элемент в конец списка\n",
        "some_list.append('!')\n",
        "print(some_list)\n",
        "\n",
        "#удалить элемент с индексом 7\n",
        "some_list.pop(7)\n",
        "print(some_list)\n",
        "\n",
        "#отсортировать элементы списка в порядке возрастания\n",
        "some_list.sort()\n",
        "print(some_list)"
      ],
      "metadata": {
        "colab": {
          "base_uri": "https://localhost:8080/"
        },
        "id": "iGkTH40uXK1B",
        "outputId": "50c8ac14-2e75-4eee-95e1-6f6c72dd6eb1"
      },
      "execution_count": null,
      "outputs": [
        {
          "output_type": "stream",
          "name": "stdout",
          "text": [
            "['к', 'о', 'т', 'о', 'п', 'е', 'с', 2, '!']\n",
            "['к', 'о', 'т', 'о', 'п', 'е', 'с', '!']\n",
            "['!', 'е', 'к', 'о', 'о', 'п', 'с', 'т']\n"
          ]
        }
      ]
    },
    {
      "cell_type": "markdown",
      "source": [
        "## Также есть словари и кортеджи"
      ],
      "metadata": {
        "id": "DJntxeYFYCgE"
      }
    },
    {
      "cell_type": "code",
      "source": [],
      "metadata": {
        "id": "ssO67rqFYGwy"
      },
      "execution_count": null,
      "outputs": []
    },
    {
      "cell_type": "markdown",
      "source": [
        "#Массивы Numpy"
      ],
      "metadata": {
        "id": "PrSp9jP6m9He"
      }
    },
    {
      "cell_type": "markdown",
      "source": [
        "Библиотека numpy позволяет работать быстро с многомерными массивами. В отличии от списков, массивы доллжны состоять из элементов только одного типа данных"
      ],
      "metadata": {
        "id": "dIqAsGDHnXb9"
      }
    },
    {
      "cell_type": "code",
      "source": [
        "#импорт библиотеки\n",
        "import numpy as np"
      ],
      "metadata": {
        "id": "G9aXTl7TnEI1"
      },
      "execution_count": null,
      "outputs": []
    },
    {
      "cell_type": "markdown",
      "source": [
        "##Cоздание массивов"
      ],
      "metadata": {
        "id": "8esBP_UdrsYq"
      }
    },
    {
      "cell_type": "code",
      "source": [
        "a = np.array([1, 2, 3])\n",
        "a2 = np.array([[1, 2, 3], [4, 5, 6]])\n",
        "a3 = np.array([[[1, 2, 3], [4, 5, 6]], [[7, 8, 9], [10, 11, 12]]])\n",
        "print(a)\n",
        "print(a2)\n",
        "print(a3)"
      ],
      "metadata": {
        "colab": {
          "base_uri": "https://localhost:8080/"
        },
        "id": "NctRMsxEnYdw",
        "outputId": "79a82c07-d637-424c-8a5c-b06439d52d20"
      },
      "execution_count": null,
      "outputs": [
        {
          "output_type": "stream",
          "name": "stdout",
          "text": [
            "[1 2 3]\n",
            "[[1 2 3]\n",
            " [4 5 6]]\n",
            "[[[ 1  2  3]\n",
            "  [ 4  5  6]]\n",
            "\n",
            " [[ 7  8  9]\n",
            "  [10 11 12]]]\n"
          ]
        }
      ]
    },
    {
      "cell_type": "markdown",
      "source": [
        "##Создание специальных массивов"
      ],
      "metadata": {
        "id": "OT-0nxhArvhv"
      }
    },
    {
      "cell_type": "code",
      "source": [
        "#Возвращает равномерно распределенные значения в пределах заданного интервала (начало, конец, шаг).\n",
        "a = np.arange(2, 10, 2)\n",
        "print(a)\n",
        "\n",
        "#массив из нулей с размерностью 2,3\n",
        "#размерность указывается кортеджами\n",
        "a_zeros = np.zeros((2, 3))\n",
        "print(a_zeros)\n",
        "\n",
        "#массив из единиц\n",
        "a_ones = np.ones((2 ))\n",
        "print(a_ones)"
      ],
      "metadata": {
        "colab": {
          "base_uri": "https://localhost:8080/"
        },
        "id": "e-i3Ls5kqPwn",
        "outputId": "ad9a7568-e168-4de5-ab7d-f7ec818fd873"
      },
      "execution_count": null,
      "outputs": [
        {
          "output_type": "stream",
          "name": "stdout",
          "text": [
            "[2 4 6 8]\n",
            "[[0. 0. 0.]\n",
            " [0. 0. 0.]]\n",
            "[1. 1.]\n"
          ]
        }
      ]
    },
    {
      "cell_type": "markdown",
      "source": [
        "##Математические операции"
      ],
      "metadata": {
        "id": "Oilc9Fx2rzE3"
      }
    },
    {
      "cell_type": "code",
      "source": [
        "#Массивы из NumPy поддерживают все стандартные арифметические операции — например, сложение, деление, вычитание. Работает это поэлементно\n",
        "a = np.array([1, 2, 3, 4])\n",
        "print(a)\n",
        "print(a + 3)\n",
        "print(a * 2)\n",
        "print(a / 2)\n",
        "\n",
        "#если массивы одинакового размера\n",
        "x = np.array([[1, 2], [3, 4]])\n",
        "y = np.array([[2, 2], [2, 2]])\n",
        "print(x+y)\n",
        "print(x*y)"
      ],
      "metadata": {
        "colab": {
          "base_uri": "https://localhost:8080/"
        },
        "id": "WHifL9UQq1O3",
        "outputId": "4948cdb8-e840-4458-9811-aaf3d18422fa"
      },
      "execution_count": null,
      "outputs": [
        {
          "output_type": "stream",
          "name": "stdout",
          "text": [
            "[1 2 3 4]\n",
            "[4 5 6 7]\n",
            "[2 4 6 8]\n",
            "[0.5 1.  1.5 2. ]\n",
            "[[3 4]\n",
            " [5 6]]\n",
            "[[2 4]\n",
            " [6 8]]\n"
          ]
        }
      ]
    },
    {
      "cell_type": "markdown",
      "source": [
        "Больше возможностей с массивами в отдельном ноутбуке на диске"
      ],
      "metadata": {
        "id": "4tM34RACq9wQ"
      }
    },
    {
      "cell_type": "markdown",
      "source": [
        "#DataFrame библиотеки pandas"
      ],
      "metadata": {
        "id": "O_e4syWHrFgm"
      }
    },
    {
      "cell_type": "code",
      "source": [
        "import pandas as pd"
      ],
      "metadata": {
        "id": "tndjIeBLrJdW"
      },
      "execution_count": null,
      "outputs": []
    },
    {
      "cell_type": "markdown",
      "source": [
        "Библиотека pandas, которая применяется для обработки и анализа табличных данных. В этой библиотеке используется numpy для удобного хранения данных и вычислений.\n",
        "\n",
        "В библиотеке pandas определены два класса объектов для работы с данными:\n",
        "\n",
        "Series — одномерный массив, который может хранить значения любого типа данных; DataFrame — двумерный массив (таблица), в котором столбцами являются объекты класса Series.\n"
      ],
      "metadata": {
        "id": "UZ05JZxJrR1o"
      }
    },
    {
      "cell_type": "markdown",
      "source": [
        "##Series"
      ],
      "metadata": {
        "id": "1bcYonsur2xn"
      }
    },
    {
      "cell_type": "markdown",
      "source": [
        "В качестве данных объекта Series могут выступать: массив numpy, словарь, число. В аргумент index передаётся список меток осей. Метка может быть числом или строкой. Если индекс не передается, то меткам автоматически неазначается список [0, ..., len(data) - 1]"
      ],
      "metadata": {
        "id": "k9tEl5fUr-oY"
      }
    },
    {
      "cell_type": "markdown",
      "source": [
        "###Создание Series"
      ],
      "metadata": {
        "id": "bNRbkqygsD33"
      }
    },
    {
      "cell_type": "code",
      "source": [
        "s = pd.Series(np.arange(5), index=[\"a\", \"b\", \"c\", \"d\", \"e\"])\n",
        "print(s)\n",
        "print()\n",
        "\n",
        "s = pd.Series(np.linspace(0, 1, 5))\n",
        "print(s)\n",
        "print()\n",
        "#задать Series с помощью словаря\n",
        "s = {\"a\": 10, \"b\": 20, \"c\": 30, \"g\": 40}\n",
        "print(pd.Series(s))\n",
        "print()"
      ],
      "metadata": {
        "colab": {
          "base_uri": "https://localhost:8080/"
        },
        "id": "5uVYLTfCrTbP",
        "outputId": "dc0f3d78-806f-4324-faed-5d96addf4451"
      },
      "execution_count": null,
      "outputs": [
        {
          "output_type": "stream",
          "name": "stdout",
          "text": [
            "a    0\n",
            "b    1\n",
            "c    2\n",
            "d    3\n",
            "e    4\n",
            "dtype: int64\n",
            "\n",
            "0    0.00\n",
            "1    0.25\n",
            "2    0.50\n",
            "3    0.75\n",
            "4    1.00\n",
            "dtype: float64\n",
            "\n",
            "a    10\n",
            "b    20\n",
            "c    30\n",
            "g    40\n",
            "dtype: int64\n",
            "\n"
          ]
        }
      ]
    },
    {
      "cell_type": "markdown",
      "source": [
        "##DataFrame"
      ],
      "metadata": {
        "id": "_RWesgxLsUgQ"
      }
    },
    {
      "cell_type": "markdown",
      "source": [
        "DataFrame — это структуры, которые состоят из:\n",
        "\n",
        "данных, организованных в двух измерениях — строках и столбцах;\n",
        "и соответствующих этим строкам и столбцам меток."
      ],
      "metadata": {
        "id": "VuPiy27Urbd_"
      }
    },
    {
      "cell_type": "markdown",
      "source": [
        "###Создание и заполнение DataFrame"
      ],
      "metadata": {
        "id": "M7ObFAMMsO4w"
      }
    },
    {
      "cell_type": "code",
      "source": [
        "#из словаря\n",
        "students_marks_dict = {\"student\": [\"Студент_1\", \"Студент_2\", \"Студент_3\"],\n",
        "                       \"math\": [5, 3, 4],\n",
        "                       \"physics\": [4, 5, 5]}\n",
        "students = pd.DataFrame(students_marks_dict)\n",
        "print(students)"
      ],
      "metadata": {
        "colab": {
          "base_uri": "https://localhost:8080/"
        },
        "id": "VkHzXDR6rVlp",
        "outputId": "b37046e8-e57f-400e-c881-34c81c9d2ca6"
      },
      "execution_count": null,
      "outputs": [
        {
          "output_type": "stream",
          "name": "stdout",
          "text": [
            "     student  math  physics\n",
            "0  Студент_1     5        4\n",
            "1  Студент_2     3        5\n",
            "2  Студент_3     4        5\n"
          ]
        }
      ]
    },
    {
      "cell_type": "code",
      "source": [
        "#создание пустого DataFrame с последующим заполнением\n",
        "empty_df = pd.DataFrame(columns = ['кот', 'возраст'])\n",
        "empty_df.head()"
      ],
      "metadata": {
        "colab": {
          "base_uri": "https://localhost:8080/",
          "height": 53
        },
        "id": "71Ipu-t_sYIv",
        "outputId": "0110d099-2fe5-4469-9b94-e835ea385c24"
      },
      "execution_count": null,
      "outputs": [
        {
          "output_type": "execute_result",
          "data": {
            "text/plain": [
              "Empty DataFrame\n",
              "Columns: [кот, возраст]\n",
              "Index: []"
            ],
            "text/html": [
              "\n",
              "  <div id=\"df-ee2d46cd-94f9-4c0b-86a8-92627043d1dd\" class=\"colab-df-container\">\n",
              "    <div>\n",
              "<style scoped>\n",
              "    .dataframe tbody tr th:only-of-type {\n",
              "        vertical-align: middle;\n",
              "    }\n",
              "\n",
              "    .dataframe tbody tr th {\n",
              "        vertical-align: top;\n",
              "    }\n",
              "\n",
              "    .dataframe thead th {\n",
              "        text-align: right;\n",
              "    }\n",
              "</style>\n",
              "<table border=\"1\" class=\"dataframe\">\n",
              "  <thead>\n",
              "    <tr style=\"text-align: right;\">\n",
              "      <th></th>\n",
              "      <th>кот</th>\n",
              "      <th>возраст</th>\n",
              "    </tr>\n",
              "  </thead>\n",
              "  <tbody>\n",
              "  </tbody>\n",
              "</table>\n",
              "</div>\n",
              "    <div class=\"colab-df-buttons\">\n",
              "\n",
              "  <div class=\"colab-df-container\">\n",
              "    <button class=\"colab-df-convert\" onclick=\"convertToInteractive('df-ee2d46cd-94f9-4c0b-86a8-92627043d1dd')\"\n",
              "            title=\"Convert this dataframe to an interactive table.\"\n",
              "            style=\"display:none;\">\n",
              "\n",
              "  <svg xmlns=\"http://www.w3.org/2000/svg\" height=\"24px\" viewBox=\"0 -960 960 960\">\n",
              "    <path d=\"M120-120v-720h720v720H120Zm60-500h600v-160H180v160Zm220 220h160v-160H400v160Zm0 220h160v-160H400v160ZM180-400h160v-160H180v160Zm440 0h160v-160H620v160ZM180-180h160v-160H180v160Zm440 0h160v-160H620v160Z\"/>\n",
              "  </svg>\n",
              "    </button>\n",
              "\n",
              "  <style>\n",
              "    .colab-df-container {\n",
              "      display:flex;\n",
              "      gap: 12px;\n",
              "    }\n",
              "\n",
              "    .colab-df-convert {\n",
              "      background-color: #E8F0FE;\n",
              "      border: none;\n",
              "      border-radius: 50%;\n",
              "      cursor: pointer;\n",
              "      display: none;\n",
              "      fill: #1967D2;\n",
              "      height: 32px;\n",
              "      padding: 0 0 0 0;\n",
              "      width: 32px;\n",
              "    }\n",
              "\n",
              "    .colab-df-convert:hover {\n",
              "      background-color: #E2EBFA;\n",
              "      box-shadow: 0px 1px 2px rgba(60, 64, 67, 0.3), 0px 1px 3px 1px rgba(60, 64, 67, 0.15);\n",
              "      fill: #174EA6;\n",
              "    }\n",
              "\n",
              "    .colab-df-buttons div {\n",
              "      margin-bottom: 4px;\n",
              "    }\n",
              "\n",
              "    [theme=dark] .colab-df-convert {\n",
              "      background-color: #3B4455;\n",
              "      fill: #D2E3FC;\n",
              "    }\n",
              "\n",
              "    [theme=dark] .colab-df-convert:hover {\n",
              "      background-color: #434B5C;\n",
              "      box-shadow: 0px 1px 3px 1px rgba(0, 0, 0, 0.15);\n",
              "      filter: drop-shadow(0px 1px 2px rgba(0, 0, 0, 0.3));\n",
              "      fill: #FFFFFF;\n",
              "    }\n",
              "  </style>\n",
              "\n",
              "    <script>\n",
              "      const buttonEl =\n",
              "        document.querySelector('#df-ee2d46cd-94f9-4c0b-86a8-92627043d1dd button.colab-df-convert');\n",
              "      buttonEl.style.display =\n",
              "        google.colab.kernel.accessAllowed ? 'block' : 'none';\n",
              "\n",
              "      async function convertToInteractive(key) {\n",
              "        const element = document.querySelector('#df-ee2d46cd-94f9-4c0b-86a8-92627043d1dd');\n",
              "        const dataTable =\n",
              "          await google.colab.kernel.invokeFunction('convertToInteractive',\n",
              "                                                    [key], {});\n",
              "        if (!dataTable) return;\n",
              "\n",
              "        const docLinkHtml = 'Like what you see? Visit the ' +\n",
              "          '<a target=\"_blank\" href=https://colab.research.google.com/notebooks/data_table.ipynb>data table notebook</a>'\n",
              "          + ' to learn more about interactive tables.';\n",
              "        element.innerHTML = '';\n",
              "        dataTable['output_type'] = 'display_data';\n",
              "        await google.colab.output.renderOutput(dataTable, element);\n",
              "        const docLink = document.createElement('div');\n",
              "        docLink.innerHTML = docLinkHtml;\n",
              "        element.appendChild(docLink);\n",
              "      }\n",
              "    </script>\n",
              "  </div>\n",
              "\n",
              "    </div>\n",
              "  </div>\n"
            ],
            "application/vnd.google.colaboratory.intrinsic+json": {
              "type": "dataframe",
              "variable_name": "empty_df",
              "repr_error": "Out of range float values are not JSON compliant: nan"
            }
          },
          "metadata": {},
          "execution_count": 12
        }
      ]
    },
    {
      "cell_type": "code",
      "source": [
        "#заполнение пустого DF списками\n",
        "empty_df['кот'] = ['Вася', 'Пушистик', 'Рыжик']\n",
        "empty_df.head()"
      ],
      "metadata": {
        "colab": {
          "base_uri": "https://localhost:8080/",
          "height": 143
        },
        "id": "Emsp6Z6msZ7P",
        "outputId": "3b5316a5-91da-4117-e815-87bf681f64d1"
      },
      "execution_count": null,
      "outputs": [
        {
          "output_type": "execute_result",
          "data": {
            "text/plain": [
              "        кот возраст\n",
              "0      Вася     NaN\n",
              "1  Пушистик     NaN\n",
              "2     Рыжик     NaN"
            ],
            "text/html": [
              "\n",
              "  <div id=\"df-280d1378-ceae-4d95-807b-45e94934374d\" class=\"colab-df-container\">\n",
              "    <div>\n",
              "<style scoped>\n",
              "    .dataframe tbody tr th:only-of-type {\n",
              "        vertical-align: middle;\n",
              "    }\n",
              "\n",
              "    .dataframe tbody tr th {\n",
              "        vertical-align: top;\n",
              "    }\n",
              "\n",
              "    .dataframe thead th {\n",
              "        text-align: right;\n",
              "    }\n",
              "</style>\n",
              "<table border=\"1\" class=\"dataframe\">\n",
              "  <thead>\n",
              "    <tr style=\"text-align: right;\">\n",
              "      <th></th>\n",
              "      <th>кот</th>\n",
              "      <th>возраст</th>\n",
              "    </tr>\n",
              "  </thead>\n",
              "  <tbody>\n",
              "    <tr>\n",
              "      <th>0</th>\n",
              "      <td>Вася</td>\n",
              "      <td>NaN</td>\n",
              "    </tr>\n",
              "    <tr>\n",
              "      <th>1</th>\n",
              "      <td>Пушистик</td>\n",
              "      <td>NaN</td>\n",
              "    </tr>\n",
              "    <tr>\n",
              "      <th>2</th>\n",
              "      <td>Рыжик</td>\n",
              "      <td>NaN</td>\n",
              "    </tr>\n",
              "  </tbody>\n",
              "</table>\n",
              "</div>\n",
              "    <div class=\"colab-df-buttons\">\n",
              "\n",
              "  <div class=\"colab-df-container\">\n",
              "    <button class=\"colab-df-convert\" onclick=\"convertToInteractive('df-280d1378-ceae-4d95-807b-45e94934374d')\"\n",
              "            title=\"Convert this dataframe to an interactive table.\"\n",
              "            style=\"display:none;\">\n",
              "\n",
              "  <svg xmlns=\"http://www.w3.org/2000/svg\" height=\"24px\" viewBox=\"0 -960 960 960\">\n",
              "    <path d=\"M120-120v-720h720v720H120Zm60-500h600v-160H180v160Zm220 220h160v-160H400v160Zm0 220h160v-160H400v160ZM180-400h160v-160H180v160Zm440 0h160v-160H620v160ZM180-180h160v-160H180v160Zm440 0h160v-160H620v160Z\"/>\n",
              "  </svg>\n",
              "    </button>\n",
              "\n",
              "  <style>\n",
              "    .colab-df-container {\n",
              "      display:flex;\n",
              "      gap: 12px;\n",
              "    }\n",
              "\n",
              "    .colab-df-convert {\n",
              "      background-color: #E8F0FE;\n",
              "      border: none;\n",
              "      border-radius: 50%;\n",
              "      cursor: pointer;\n",
              "      display: none;\n",
              "      fill: #1967D2;\n",
              "      height: 32px;\n",
              "      padding: 0 0 0 0;\n",
              "      width: 32px;\n",
              "    }\n",
              "\n",
              "    .colab-df-convert:hover {\n",
              "      background-color: #E2EBFA;\n",
              "      box-shadow: 0px 1px 2px rgba(60, 64, 67, 0.3), 0px 1px 3px 1px rgba(60, 64, 67, 0.15);\n",
              "      fill: #174EA6;\n",
              "    }\n",
              "\n",
              "    .colab-df-buttons div {\n",
              "      margin-bottom: 4px;\n",
              "    }\n",
              "\n",
              "    [theme=dark] .colab-df-convert {\n",
              "      background-color: #3B4455;\n",
              "      fill: #D2E3FC;\n",
              "    }\n",
              "\n",
              "    [theme=dark] .colab-df-convert:hover {\n",
              "      background-color: #434B5C;\n",
              "      box-shadow: 0px 1px 3px 1px rgba(0, 0, 0, 0.15);\n",
              "      filter: drop-shadow(0px 1px 2px rgba(0, 0, 0, 0.3));\n",
              "      fill: #FFFFFF;\n",
              "    }\n",
              "  </style>\n",
              "\n",
              "    <script>\n",
              "      const buttonEl =\n",
              "        document.querySelector('#df-280d1378-ceae-4d95-807b-45e94934374d button.colab-df-convert');\n",
              "      buttonEl.style.display =\n",
              "        google.colab.kernel.accessAllowed ? 'block' : 'none';\n",
              "\n",
              "      async function convertToInteractive(key) {\n",
              "        const element = document.querySelector('#df-280d1378-ceae-4d95-807b-45e94934374d');\n",
              "        const dataTable =\n",
              "          await google.colab.kernel.invokeFunction('convertToInteractive',\n",
              "                                                    [key], {});\n",
              "        if (!dataTable) return;\n",
              "\n",
              "        const docLinkHtml = 'Like what you see? Visit the ' +\n",
              "          '<a target=\"_blank\" href=https://colab.research.google.com/notebooks/data_table.ipynb>data table notebook</a>'\n",
              "          + ' to learn more about interactive tables.';\n",
              "        element.innerHTML = '';\n",
              "        dataTable['output_type'] = 'display_data';\n",
              "        await google.colab.output.renderOutput(dataTable, element);\n",
              "        const docLink = document.createElement('div');\n",
              "        docLink.innerHTML = docLinkHtml;\n",
              "        element.appendChild(docLink);\n",
              "      }\n",
              "    </script>\n",
              "  </div>\n",
              "\n",
              "\n",
              "<div id=\"df-38912904-eb6e-4800-aa7b-cb1f53398968\">\n",
              "  <button class=\"colab-df-quickchart\" onclick=\"quickchart('df-38912904-eb6e-4800-aa7b-cb1f53398968')\"\n",
              "            title=\"Suggest charts\"\n",
              "            style=\"display:none;\">\n",
              "\n",
              "<svg xmlns=\"http://www.w3.org/2000/svg\" height=\"24px\"viewBox=\"0 0 24 24\"\n",
              "     width=\"24px\">\n",
              "    <g>\n",
              "        <path d=\"M19 3H5c-1.1 0-2 .9-2 2v14c0 1.1.9 2 2 2h14c1.1 0 2-.9 2-2V5c0-1.1-.9-2-2-2zM9 17H7v-7h2v7zm4 0h-2V7h2v10zm4 0h-2v-4h2v4z\"/>\n",
              "    </g>\n",
              "</svg>\n",
              "  </button>\n",
              "\n",
              "<style>\n",
              "  .colab-df-quickchart {\n",
              "      --bg-color: #E8F0FE;\n",
              "      --fill-color: #1967D2;\n",
              "      --hover-bg-color: #E2EBFA;\n",
              "      --hover-fill-color: #174EA6;\n",
              "      --disabled-fill-color: #AAA;\n",
              "      --disabled-bg-color: #DDD;\n",
              "  }\n",
              "\n",
              "  [theme=dark] .colab-df-quickchart {\n",
              "      --bg-color: #3B4455;\n",
              "      --fill-color: #D2E3FC;\n",
              "      --hover-bg-color: #434B5C;\n",
              "      --hover-fill-color: #FFFFFF;\n",
              "      --disabled-bg-color: #3B4455;\n",
              "      --disabled-fill-color: #666;\n",
              "  }\n",
              "\n",
              "  .colab-df-quickchart {\n",
              "    background-color: var(--bg-color);\n",
              "    border: none;\n",
              "    border-radius: 50%;\n",
              "    cursor: pointer;\n",
              "    display: none;\n",
              "    fill: var(--fill-color);\n",
              "    height: 32px;\n",
              "    padding: 0;\n",
              "    width: 32px;\n",
              "  }\n",
              "\n",
              "  .colab-df-quickchart:hover {\n",
              "    background-color: var(--hover-bg-color);\n",
              "    box-shadow: 0 1px 2px rgba(60, 64, 67, 0.3), 0 1px 3px 1px rgba(60, 64, 67, 0.15);\n",
              "    fill: var(--button-hover-fill-color);\n",
              "  }\n",
              "\n",
              "  .colab-df-quickchart-complete:disabled,\n",
              "  .colab-df-quickchart-complete:disabled:hover {\n",
              "    background-color: var(--disabled-bg-color);\n",
              "    fill: var(--disabled-fill-color);\n",
              "    box-shadow: none;\n",
              "  }\n",
              "\n",
              "  .colab-df-spinner {\n",
              "    border: 2px solid var(--fill-color);\n",
              "    border-color: transparent;\n",
              "    border-bottom-color: var(--fill-color);\n",
              "    animation:\n",
              "      spin 1s steps(1) infinite;\n",
              "  }\n",
              "\n",
              "  @keyframes spin {\n",
              "    0% {\n",
              "      border-color: transparent;\n",
              "      border-bottom-color: var(--fill-color);\n",
              "      border-left-color: var(--fill-color);\n",
              "    }\n",
              "    20% {\n",
              "      border-color: transparent;\n",
              "      border-left-color: var(--fill-color);\n",
              "      border-top-color: var(--fill-color);\n",
              "    }\n",
              "    30% {\n",
              "      border-color: transparent;\n",
              "      border-left-color: var(--fill-color);\n",
              "      border-top-color: var(--fill-color);\n",
              "      border-right-color: var(--fill-color);\n",
              "    }\n",
              "    40% {\n",
              "      border-color: transparent;\n",
              "      border-right-color: var(--fill-color);\n",
              "      border-top-color: var(--fill-color);\n",
              "    }\n",
              "    60% {\n",
              "      border-color: transparent;\n",
              "      border-right-color: var(--fill-color);\n",
              "    }\n",
              "    80% {\n",
              "      border-color: transparent;\n",
              "      border-right-color: var(--fill-color);\n",
              "      border-bottom-color: var(--fill-color);\n",
              "    }\n",
              "    90% {\n",
              "      border-color: transparent;\n",
              "      border-bottom-color: var(--fill-color);\n",
              "    }\n",
              "  }\n",
              "</style>\n",
              "\n",
              "  <script>\n",
              "    async function quickchart(key) {\n",
              "      const quickchartButtonEl =\n",
              "        document.querySelector('#' + key + ' button');\n",
              "      quickchartButtonEl.disabled = true;  // To prevent multiple clicks.\n",
              "      quickchartButtonEl.classList.add('colab-df-spinner');\n",
              "      try {\n",
              "        const charts = await google.colab.kernel.invokeFunction(\n",
              "            'suggestCharts', [key], {});\n",
              "      } catch (error) {\n",
              "        console.error('Error during call to suggestCharts:', error);\n",
              "      }\n",
              "      quickchartButtonEl.classList.remove('colab-df-spinner');\n",
              "      quickchartButtonEl.classList.add('colab-df-quickchart-complete');\n",
              "    }\n",
              "    (() => {\n",
              "      let quickchartButtonEl =\n",
              "        document.querySelector('#df-38912904-eb6e-4800-aa7b-cb1f53398968 button');\n",
              "      quickchartButtonEl.style.display =\n",
              "        google.colab.kernel.accessAllowed ? 'block' : 'none';\n",
              "    })();\n",
              "  </script>\n",
              "</div>\n",
              "    </div>\n",
              "  </div>\n"
            ],
            "application/vnd.google.colaboratory.intrinsic+json": {
              "type": "dataframe",
              "variable_name": "empty_df",
              "repr_error": "Out of range float values are not JSON compliant: nan"
            }
          },
          "metadata": {},
          "execution_count": 13
        }
      ]
    },
    {
      "cell_type": "code",
      "source": [
        "#важно, чтобы длина списка была одинакова с длиной DF\n",
        "#empty_df['возраст'] = [1, 5]\n",
        "#empty_df.head()"
      ],
      "metadata": {
        "id": "BDrV570asc0Y"
      },
      "execution_count": null,
      "outputs": []
    },
    {
      "cell_type": "code",
      "source": [
        "empty_df['возраст'] = [1, 5, np.nan]\n",
        "empty_df.head()"
      ],
      "metadata": {
        "colab": {
          "base_uri": "https://localhost:8080/",
          "height": 143
        },
        "id": "M4dyvciWsetY",
        "outputId": "52921255-32fd-4154-d243-8435871e8077"
      },
      "execution_count": null,
      "outputs": [
        {
          "output_type": "execute_result",
          "data": {
            "text/plain": [
              "        кот  возраст\n",
              "0      Вася      1.0\n",
              "1  Пушистик      5.0\n",
              "2     Рыжик      NaN"
            ],
            "text/html": [
              "\n",
              "  <div id=\"df-098edbb6-2931-41f3-83c2-181487c82ef6\" class=\"colab-df-container\">\n",
              "    <div>\n",
              "<style scoped>\n",
              "    .dataframe tbody tr th:only-of-type {\n",
              "        vertical-align: middle;\n",
              "    }\n",
              "\n",
              "    .dataframe tbody tr th {\n",
              "        vertical-align: top;\n",
              "    }\n",
              "\n",
              "    .dataframe thead th {\n",
              "        text-align: right;\n",
              "    }\n",
              "</style>\n",
              "<table border=\"1\" class=\"dataframe\">\n",
              "  <thead>\n",
              "    <tr style=\"text-align: right;\">\n",
              "      <th></th>\n",
              "      <th>кот</th>\n",
              "      <th>возраст</th>\n",
              "    </tr>\n",
              "  </thead>\n",
              "  <tbody>\n",
              "    <tr>\n",
              "      <th>0</th>\n",
              "      <td>Вася</td>\n",
              "      <td>1.0</td>\n",
              "    </tr>\n",
              "    <tr>\n",
              "      <th>1</th>\n",
              "      <td>Пушистик</td>\n",
              "      <td>5.0</td>\n",
              "    </tr>\n",
              "    <tr>\n",
              "      <th>2</th>\n",
              "      <td>Рыжик</td>\n",
              "      <td>NaN</td>\n",
              "    </tr>\n",
              "  </tbody>\n",
              "</table>\n",
              "</div>\n",
              "    <div class=\"colab-df-buttons\">\n",
              "\n",
              "  <div class=\"colab-df-container\">\n",
              "    <button class=\"colab-df-convert\" onclick=\"convertToInteractive('df-098edbb6-2931-41f3-83c2-181487c82ef6')\"\n",
              "            title=\"Convert this dataframe to an interactive table.\"\n",
              "            style=\"display:none;\">\n",
              "\n",
              "  <svg xmlns=\"http://www.w3.org/2000/svg\" height=\"24px\" viewBox=\"0 -960 960 960\">\n",
              "    <path d=\"M120-120v-720h720v720H120Zm60-500h600v-160H180v160Zm220 220h160v-160H400v160Zm0 220h160v-160H400v160ZM180-400h160v-160H180v160Zm440 0h160v-160H620v160ZM180-180h160v-160H180v160Zm440 0h160v-160H620v160Z\"/>\n",
              "  </svg>\n",
              "    </button>\n",
              "\n",
              "  <style>\n",
              "    .colab-df-container {\n",
              "      display:flex;\n",
              "      gap: 12px;\n",
              "    }\n",
              "\n",
              "    .colab-df-convert {\n",
              "      background-color: #E8F0FE;\n",
              "      border: none;\n",
              "      border-radius: 50%;\n",
              "      cursor: pointer;\n",
              "      display: none;\n",
              "      fill: #1967D2;\n",
              "      height: 32px;\n",
              "      padding: 0 0 0 0;\n",
              "      width: 32px;\n",
              "    }\n",
              "\n",
              "    .colab-df-convert:hover {\n",
              "      background-color: #E2EBFA;\n",
              "      box-shadow: 0px 1px 2px rgba(60, 64, 67, 0.3), 0px 1px 3px 1px rgba(60, 64, 67, 0.15);\n",
              "      fill: #174EA6;\n",
              "    }\n",
              "\n",
              "    .colab-df-buttons div {\n",
              "      margin-bottom: 4px;\n",
              "    }\n",
              "\n",
              "    [theme=dark] .colab-df-convert {\n",
              "      background-color: #3B4455;\n",
              "      fill: #D2E3FC;\n",
              "    }\n",
              "\n",
              "    [theme=dark] .colab-df-convert:hover {\n",
              "      background-color: #434B5C;\n",
              "      box-shadow: 0px 1px 3px 1px rgba(0, 0, 0, 0.15);\n",
              "      filter: drop-shadow(0px 1px 2px rgba(0, 0, 0, 0.3));\n",
              "      fill: #FFFFFF;\n",
              "    }\n",
              "  </style>\n",
              "\n",
              "    <script>\n",
              "      const buttonEl =\n",
              "        document.querySelector('#df-098edbb6-2931-41f3-83c2-181487c82ef6 button.colab-df-convert');\n",
              "      buttonEl.style.display =\n",
              "        google.colab.kernel.accessAllowed ? 'block' : 'none';\n",
              "\n",
              "      async function convertToInteractive(key) {\n",
              "        const element = document.querySelector('#df-098edbb6-2931-41f3-83c2-181487c82ef6');\n",
              "        const dataTable =\n",
              "          await google.colab.kernel.invokeFunction('convertToInteractive',\n",
              "                                                    [key], {});\n",
              "        if (!dataTable) return;\n",
              "\n",
              "        const docLinkHtml = 'Like what you see? Visit the ' +\n",
              "          '<a target=\"_blank\" href=https://colab.research.google.com/notebooks/data_table.ipynb>data table notebook</a>'\n",
              "          + ' to learn more about interactive tables.';\n",
              "        element.innerHTML = '';\n",
              "        dataTable['output_type'] = 'display_data';\n",
              "        await google.colab.output.renderOutput(dataTable, element);\n",
              "        const docLink = document.createElement('div');\n",
              "        docLink.innerHTML = docLinkHtml;\n",
              "        element.appendChild(docLink);\n",
              "      }\n",
              "    </script>\n",
              "  </div>\n",
              "\n",
              "\n",
              "<div id=\"df-1dc64a5e-8a93-47ca-afad-e792221d1849\">\n",
              "  <button class=\"colab-df-quickchart\" onclick=\"quickchart('df-1dc64a5e-8a93-47ca-afad-e792221d1849')\"\n",
              "            title=\"Suggest charts\"\n",
              "            style=\"display:none;\">\n",
              "\n",
              "<svg xmlns=\"http://www.w3.org/2000/svg\" height=\"24px\"viewBox=\"0 0 24 24\"\n",
              "     width=\"24px\">\n",
              "    <g>\n",
              "        <path d=\"M19 3H5c-1.1 0-2 .9-2 2v14c0 1.1.9 2 2 2h14c1.1 0 2-.9 2-2V5c0-1.1-.9-2-2-2zM9 17H7v-7h2v7zm4 0h-2V7h2v10zm4 0h-2v-4h2v4z\"/>\n",
              "    </g>\n",
              "</svg>\n",
              "  </button>\n",
              "\n",
              "<style>\n",
              "  .colab-df-quickchart {\n",
              "      --bg-color: #E8F0FE;\n",
              "      --fill-color: #1967D2;\n",
              "      --hover-bg-color: #E2EBFA;\n",
              "      --hover-fill-color: #174EA6;\n",
              "      --disabled-fill-color: #AAA;\n",
              "      --disabled-bg-color: #DDD;\n",
              "  }\n",
              "\n",
              "  [theme=dark] .colab-df-quickchart {\n",
              "      --bg-color: #3B4455;\n",
              "      --fill-color: #D2E3FC;\n",
              "      --hover-bg-color: #434B5C;\n",
              "      --hover-fill-color: #FFFFFF;\n",
              "      --disabled-bg-color: #3B4455;\n",
              "      --disabled-fill-color: #666;\n",
              "  }\n",
              "\n",
              "  .colab-df-quickchart {\n",
              "    background-color: var(--bg-color);\n",
              "    border: none;\n",
              "    border-radius: 50%;\n",
              "    cursor: pointer;\n",
              "    display: none;\n",
              "    fill: var(--fill-color);\n",
              "    height: 32px;\n",
              "    padding: 0;\n",
              "    width: 32px;\n",
              "  }\n",
              "\n",
              "  .colab-df-quickchart:hover {\n",
              "    background-color: var(--hover-bg-color);\n",
              "    box-shadow: 0 1px 2px rgba(60, 64, 67, 0.3), 0 1px 3px 1px rgba(60, 64, 67, 0.15);\n",
              "    fill: var(--button-hover-fill-color);\n",
              "  }\n",
              "\n",
              "  .colab-df-quickchart-complete:disabled,\n",
              "  .colab-df-quickchart-complete:disabled:hover {\n",
              "    background-color: var(--disabled-bg-color);\n",
              "    fill: var(--disabled-fill-color);\n",
              "    box-shadow: none;\n",
              "  }\n",
              "\n",
              "  .colab-df-spinner {\n",
              "    border: 2px solid var(--fill-color);\n",
              "    border-color: transparent;\n",
              "    border-bottom-color: var(--fill-color);\n",
              "    animation:\n",
              "      spin 1s steps(1) infinite;\n",
              "  }\n",
              "\n",
              "  @keyframes spin {\n",
              "    0% {\n",
              "      border-color: transparent;\n",
              "      border-bottom-color: var(--fill-color);\n",
              "      border-left-color: var(--fill-color);\n",
              "    }\n",
              "    20% {\n",
              "      border-color: transparent;\n",
              "      border-left-color: var(--fill-color);\n",
              "      border-top-color: var(--fill-color);\n",
              "    }\n",
              "    30% {\n",
              "      border-color: transparent;\n",
              "      border-left-color: var(--fill-color);\n",
              "      border-top-color: var(--fill-color);\n",
              "      border-right-color: var(--fill-color);\n",
              "    }\n",
              "    40% {\n",
              "      border-color: transparent;\n",
              "      border-right-color: var(--fill-color);\n",
              "      border-top-color: var(--fill-color);\n",
              "    }\n",
              "    60% {\n",
              "      border-color: transparent;\n",
              "      border-right-color: var(--fill-color);\n",
              "    }\n",
              "    80% {\n",
              "      border-color: transparent;\n",
              "      border-right-color: var(--fill-color);\n",
              "      border-bottom-color: var(--fill-color);\n",
              "    }\n",
              "    90% {\n",
              "      border-color: transparent;\n",
              "      border-bottom-color: var(--fill-color);\n",
              "    }\n",
              "  }\n",
              "</style>\n",
              "\n",
              "  <script>\n",
              "    async function quickchart(key) {\n",
              "      const quickchartButtonEl =\n",
              "        document.querySelector('#' + key + ' button');\n",
              "      quickchartButtonEl.disabled = true;  // To prevent multiple clicks.\n",
              "      quickchartButtonEl.classList.add('colab-df-spinner');\n",
              "      try {\n",
              "        const charts = await google.colab.kernel.invokeFunction(\n",
              "            'suggestCharts', [key], {});\n",
              "      } catch (error) {\n",
              "        console.error('Error during call to suggestCharts:', error);\n",
              "      }\n",
              "      quickchartButtonEl.classList.remove('colab-df-spinner');\n",
              "      quickchartButtonEl.classList.add('colab-df-quickchart-complete');\n",
              "    }\n",
              "    (() => {\n",
              "      let quickchartButtonEl =\n",
              "        document.querySelector('#df-1dc64a5e-8a93-47ca-afad-e792221d1849 button');\n",
              "      quickchartButtonEl.style.display =\n",
              "        google.colab.kernel.accessAllowed ? 'block' : 'none';\n",
              "    })();\n",
              "  </script>\n",
              "</div>\n",
              "    </div>\n",
              "  </div>\n"
            ],
            "application/vnd.google.colaboratory.intrinsic+json": {
              "type": "dataframe",
              "variable_name": "empty_df",
              "summary": "{\n  \"name\": \"empty_df\",\n  \"rows\": 3,\n  \"fields\": [\n    {\n      \"column\": \"\\u043a\\u043e\\u0442\",\n      \"properties\": {\n        \"dtype\": \"string\",\n        \"num_unique_values\": 3,\n        \"samples\": [\n          \"\\u0412\\u0430\\u0441\\u044f\",\n          \"\\u041f\\u0443\\u0448\\u0438\\u0441\\u0442\\u0438\\u043a\",\n          \"\\u0420\\u044b\\u0436\\u0438\\u043a\"\n        ],\n        \"semantic_type\": \"\",\n        \"description\": \"\"\n      }\n    },\n    {\n      \"column\": \"\\u0432\\u043e\\u0437\\u0440\\u0430\\u0441\\u0442\",\n      \"properties\": {\n        \"dtype\": \"number\",\n        \"std\": 2.8284271247461903,\n        \"min\": 1.0,\n        \"max\": 5.0,\n        \"num_unique_values\": 2,\n        \"samples\": [\n          5.0,\n          1.0\n        ],\n        \"semantic_type\": \"\",\n        \"description\": \"\"\n      }\n    }\n  ]\n}"
            }
          },
          "metadata": {},
          "execution_count": 15
        }
      ]
    },
    {
      "cell_type": "markdown",
      "source": [
        "###Доступ к элементам DF"
      ],
      "metadata": {
        "id": "qoexkdjqsqjo"
      }
    },
    {
      "cell_type": "code",
      "source": [
        "#вывод индексов и колонок\n",
        "print(empty_df.index)\n",
        "print(empty_df.columns)\n",
        "#print(list(empty_df.columns))"
      ],
      "metadata": {
        "colab": {
          "base_uri": "https://localhost:8080/"
        },
        "id": "CU3OPiW5silP",
        "outputId": "5166b4f5-64c5-4565-b342-e7d700ee9bee"
      },
      "execution_count": null,
      "outputs": [
        {
          "output_type": "stream",
          "name": "stdout",
          "text": [
            "RangeIndex(start=0, stop=3, step=1)\n",
            "Index(['кот', 'возраст'], dtype='object')\n"
          ]
        }
      ]
    },
    {
      "cell_type": "code",
      "source": [
        "#доступ к строке\n",
        "empty_df.loc[2]"
      ],
      "metadata": {
        "colab": {
          "base_uri": "https://localhost:8080/",
          "height": 147
        },
        "id": "Z_Y9eawzsoJP",
        "outputId": "729a737d-961f-4494-f083-f136414782b5"
      },
      "execution_count": null,
      "outputs": [
        {
          "output_type": "execute_result",
          "data": {
            "text/plain": [
              "кот        Рыжик\n",
              "возраст      NaN\n",
              "Name: 2, dtype: object"
            ],
            "text/html": [
              "<div>\n",
              "<style scoped>\n",
              "    .dataframe tbody tr th:only-of-type {\n",
              "        vertical-align: middle;\n",
              "    }\n",
              "\n",
              "    .dataframe tbody tr th {\n",
              "        vertical-align: top;\n",
              "    }\n",
              "\n",
              "    .dataframe thead th {\n",
              "        text-align: right;\n",
              "    }\n",
              "</style>\n",
              "<table border=\"1\" class=\"dataframe\">\n",
              "  <thead>\n",
              "    <tr style=\"text-align: right;\">\n",
              "      <th></th>\n",
              "      <th>2</th>\n",
              "    </tr>\n",
              "  </thead>\n",
              "  <tbody>\n",
              "    <tr>\n",
              "      <th>кот</th>\n",
              "      <td>Рыжик</td>\n",
              "    </tr>\n",
              "    <tr>\n",
              "      <th>возраст</th>\n",
              "      <td>NaN</td>\n",
              "    </tr>\n",
              "  </tbody>\n",
              "</table>\n",
              "</div><br><label><b>dtype:</b> object</label>"
            ]
          },
          "metadata": {},
          "execution_count": 17
        }
      ]
    },
    {
      "cell_type": "code",
      "source": [
        "#доступ к колонке\n",
        "empty_df['кот']"
      ],
      "metadata": {
        "colab": {
          "base_uri": "https://localhost:8080/",
          "height": 178
        },
        "id": "_wBKS24rsvQ4",
        "outputId": "435690bb-113c-42c4-9f2f-2d3d38a05f70"
      },
      "execution_count": null,
      "outputs": [
        {
          "output_type": "execute_result",
          "data": {
            "text/plain": [
              "0        Вася\n",
              "1    Пушистик\n",
              "2       Рыжик\n",
              "Name: кот, dtype: object"
            ],
            "text/html": [
              "<div>\n",
              "<style scoped>\n",
              "    .dataframe tbody tr th:only-of-type {\n",
              "        vertical-align: middle;\n",
              "    }\n",
              "\n",
              "    .dataframe tbody tr th {\n",
              "        vertical-align: top;\n",
              "    }\n",
              "\n",
              "    .dataframe thead th {\n",
              "        text-align: right;\n",
              "    }\n",
              "</style>\n",
              "<table border=\"1\" class=\"dataframe\">\n",
              "  <thead>\n",
              "    <tr style=\"text-align: right;\">\n",
              "      <th></th>\n",
              "      <th>кот</th>\n",
              "    </tr>\n",
              "  </thead>\n",
              "  <tbody>\n",
              "    <tr>\n",
              "      <th>0</th>\n",
              "      <td>Вася</td>\n",
              "    </tr>\n",
              "    <tr>\n",
              "      <th>1</th>\n",
              "      <td>Пушистик</td>\n",
              "    </tr>\n",
              "    <tr>\n",
              "      <th>2</th>\n",
              "      <td>Рыжик</td>\n",
              "    </tr>\n",
              "  </tbody>\n",
              "</table>\n",
              "</div><br><label><b>dtype:</b> object</label>"
            ]
          },
          "metadata": {},
          "execution_count": 18
        }
      ]
    },
    {
      "cell_type": "code",
      "source": [
        "#доступ к одному элементу\n",
        "empty_df.at[1, 'кот']"
      ],
      "metadata": {
        "colab": {
          "base_uri": "https://localhost:8080/",
          "height": 35
        },
        "id": "e2JPIZcKs0Lw",
        "outputId": "9ec9d0d6-180b-4f6a-e6be-a71321cb9dc8"
      },
      "execution_count": null,
      "outputs": [
        {
          "output_type": "execute_result",
          "data": {
            "text/plain": [
              "'Пушистик'"
            ],
            "application/vnd.google.colaboratory.intrinsic+json": {
              "type": "string"
            }
          },
          "metadata": {},
          "execution_count": 19
        }
      ]
    },
    {
      "cell_type": "code",
      "source": [
        "#доступ по условиям\n",
        "empty_df[empty_df['кот'] == 'Вася']"
      ],
      "metadata": {
        "colab": {
          "base_uri": "https://localhost:8080/",
          "height": 81
        },
        "id": "VSSqWJzds4CI",
        "outputId": "fb819fa4-de86-4a69-aa22-d74fb545f787"
      },
      "execution_count": null,
      "outputs": [
        {
          "output_type": "execute_result",
          "data": {
            "text/plain": [
              "    кот  возраст\n",
              "0  Вася      1.0"
            ],
            "text/html": [
              "\n",
              "  <div id=\"df-84956e00-74c6-47b0-9a63-ec45f8272741\" class=\"colab-df-container\">\n",
              "    <div>\n",
              "<style scoped>\n",
              "    .dataframe tbody tr th:only-of-type {\n",
              "        vertical-align: middle;\n",
              "    }\n",
              "\n",
              "    .dataframe tbody tr th {\n",
              "        vertical-align: top;\n",
              "    }\n",
              "\n",
              "    .dataframe thead th {\n",
              "        text-align: right;\n",
              "    }\n",
              "</style>\n",
              "<table border=\"1\" class=\"dataframe\">\n",
              "  <thead>\n",
              "    <tr style=\"text-align: right;\">\n",
              "      <th></th>\n",
              "      <th>кот</th>\n",
              "      <th>возраст</th>\n",
              "    </tr>\n",
              "  </thead>\n",
              "  <tbody>\n",
              "    <tr>\n",
              "      <th>0</th>\n",
              "      <td>Вася</td>\n",
              "      <td>1.0</td>\n",
              "    </tr>\n",
              "  </tbody>\n",
              "</table>\n",
              "</div>\n",
              "    <div class=\"colab-df-buttons\">\n",
              "\n",
              "  <div class=\"colab-df-container\">\n",
              "    <button class=\"colab-df-convert\" onclick=\"convertToInteractive('df-84956e00-74c6-47b0-9a63-ec45f8272741')\"\n",
              "            title=\"Convert this dataframe to an interactive table.\"\n",
              "            style=\"display:none;\">\n",
              "\n",
              "  <svg xmlns=\"http://www.w3.org/2000/svg\" height=\"24px\" viewBox=\"0 -960 960 960\">\n",
              "    <path d=\"M120-120v-720h720v720H120Zm60-500h600v-160H180v160Zm220 220h160v-160H400v160Zm0 220h160v-160H400v160ZM180-400h160v-160H180v160Zm440 0h160v-160H620v160ZM180-180h160v-160H180v160Zm440 0h160v-160H620v160Z\"/>\n",
              "  </svg>\n",
              "    </button>\n",
              "\n",
              "  <style>\n",
              "    .colab-df-container {\n",
              "      display:flex;\n",
              "      gap: 12px;\n",
              "    }\n",
              "\n",
              "    .colab-df-convert {\n",
              "      background-color: #E8F0FE;\n",
              "      border: none;\n",
              "      border-radius: 50%;\n",
              "      cursor: pointer;\n",
              "      display: none;\n",
              "      fill: #1967D2;\n",
              "      height: 32px;\n",
              "      padding: 0 0 0 0;\n",
              "      width: 32px;\n",
              "    }\n",
              "\n",
              "    .colab-df-convert:hover {\n",
              "      background-color: #E2EBFA;\n",
              "      box-shadow: 0px 1px 2px rgba(60, 64, 67, 0.3), 0px 1px 3px 1px rgba(60, 64, 67, 0.15);\n",
              "      fill: #174EA6;\n",
              "    }\n",
              "\n",
              "    .colab-df-buttons div {\n",
              "      margin-bottom: 4px;\n",
              "    }\n",
              "\n",
              "    [theme=dark] .colab-df-convert {\n",
              "      background-color: #3B4455;\n",
              "      fill: #D2E3FC;\n",
              "    }\n",
              "\n",
              "    [theme=dark] .colab-df-convert:hover {\n",
              "      background-color: #434B5C;\n",
              "      box-shadow: 0px 1px 3px 1px rgba(0, 0, 0, 0.15);\n",
              "      filter: drop-shadow(0px 1px 2px rgba(0, 0, 0, 0.3));\n",
              "      fill: #FFFFFF;\n",
              "    }\n",
              "  </style>\n",
              "\n",
              "    <script>\n",
              "      const buttonEl =\n",
              "        document.querySelector('#df-84956e00-74c6-47b0-9a63-ec45f8272741 button.colab-df-convert');\n",
              "      buttonEl.style.display =\n",
              "        google.colab.kernel.accessAllowed ? 'block' : 'none';\n",
              "\n",
              "      async function convertToInteractive(key) {\n",
              "        const element = document.querySelector('#df-84956e00-74c6-47b0-9a63-ec45f8272741');\n",
              "        const dataTable =\n",
              "          await google.colab.kernel.invokeFunction('convertToInteractive',\n",
              "                                                    [key], {});\n",
              "        if (!dataTable) return;\n",
              "\n",
              "        const docLinkHtml = 'Like what you see? Visit the ' +\n",
              "          '<a target=\"_blank\" href=https://colab.research.google.com/notebooks/data_table.ipynb>data table notebook</a>'\n",
              "          + ' to learn more about interactive tables.';\n",
              "        element.innerHTML = '';\n",
              "        dataTable['output_type'] = 'display_data';\n",
              "        await google.colab.output.renderOutput(dataTable, element);\n",
              "        const docLink = document.createElement('div');\n",
              "        docLink.innerHTML = docLinkHtml;\n",
              "        element.appendChild(docLink);\n",
              "      }\n",
              "    </script>\n",
              "  </div>\n",
              "\n",
              "    </div>\n",
              "  </div>\n"
            ],
            "application/vnd.google.colaboratory.intrinsic+json": {
              "type": "dataframe",
              "summary": "{\n  \"name\": \"empty_df[empty_df['\\u043a\\u043e\\u0442'] == '\\u0412\\u0430\\u0441\\u044f']\",\n  \"rows\": 1,\n  \"fields\": [\n    {\n      \"column\": \"\\u043a\\u043e\\u0442\",\n      \"properties\": {\n        \"dtype\": \"string\",\n        \"num_unique_values\": 1,\n        \"samples\": [\n          \"\\u0412\\u0430\\u0441\\u044f\"\n        ],\n        \"semantic_type\": \"\",\n        \"description\": \"\"\n      }\n    },\n    {\n      \"column\": \"\\u0432\\u043e\\u0437\\u0440\\u0430\\u0441\\u0442\",\n      \"properties\": {\n        \"dtype\": \"number\",\n        \"std\": null,\n        \"min\": 1.0,\n        \"max\": 1.0,\n        \"num_unique_values\": 1,\n        \"samples\": [\n          1.0\n        ],\n        \"semantic_type\": \"\",\n        \"description\": \"\"\n      }\n    }\n  ]\n}"
            }
          },
          "metadata": {},
          "execution_count": 20
        }
      ]
    },
    {
      "cell_type": "markdown",
      "source": [
        "Больше возможностей с DataFrame в отдельном ноутбуке на диске"
      ],
      "metadata": {
        "id": "_RuMY3-GtLTJ"
      }
    },
    {
      "cell_type": "markdown",
      "source": [
        "# Условия в Python"
      ],
      "metadata": {
        "id": "7uL9TjJXYWAb"
      }
    },
    {
      "cell_type": "code",
      "source": [
        "a = 1\n",
        "b = 5\n",
        "c = 6"
      ],
      "metadata": {
        "id": "1wrwAYl_YrQ7"
      },
      "execution_count": null,
      "outputs": []
    },
    {
      "cell_type": "code",
      "source": [
        "if a+b == c:\n",
        "  print('Да')\n",
        "else:\n",
        "  print('Нет')"
      ],
      "metadata": {
        "colab": {
          "base_uri": "https://localhost:8080/"
        },
        "id": "w8IXT2ecYZIT",
        "outputId": "3e20851d-1a54-44fd-91c2-0e9a17199b31"
      },
      "execution_count": null,
      "outputs": [
        {
          "output_type": "stream",
          "name": "stdout",
          "text": [
            "Да\n"
          ]
        }
      ]
    },
    {
      "cell_type": "code",
      "source": [
        "if a>b:\n",
        "  print('a больше b')\n",
        "elif a<b:\n",
        "  print('a меньше b')\n",
        "  print('это правильно')\n",
        "else:\n",
        "  print('a равно b')\n",
        "print('код выполнен')"
      ],
      "metadata": {
        "colab": {
          "base_uri": "https://localhost:8080/"
        },
        "id": "m2sQib6ZY_1z",
        "outputId": "732fb62e-0c64-432e-b143-00222a7bd07d"
      },
      "execution_count": null,
      "outputs": [
        {
          "output_type": "stream",
          "name": "stdout",
          "text": [
            "a меньше b\n",
            "это правильно\n",
            "код выполнен\n"
          ]
        }
      ]
    },
    {
      "cell_type": "code",
      "source": [
        "#альтернативное выполнение предыдущего кода\n",
        "'''\n",
        "if a>b:\n",
        "  print('a больше b')\n",
        "else:\n",
        "  if a<b:\n",
        "    print('a меньше b')\n",
        "  else:\n",
        "    print('a равно b')\n",
        "'''"
      ],
      "metadata": {
        "id": "7ldoEZMlZRuq",
        "colab": {
          "base_uri": "https://localhost:8080/",
          "height": 35
        },
        "outputId": "ec283371-0e4e-4b84-e715-5b60f71e2a9e"
      },
      "execution_count": null,
      "outputs": [
        {
          "output_type": "execute_result",
          "data": {
            "text/plain": [
              "\"\\nif a>b:\\n  print('a больше b')\\nelse:\\n  if a<b:\\n    print('a меньше b')\\n  else:\\n    print('a равно b')\\n\""
            ],
            "application/vnd.google.colaboratory.intrinsic+json": {
              "type": "string"
            }
          },
          "metadata": {},
          "execution_count": 24
        }
      ]
    },
    {
      "cell_type": "markdown",
      "source": [
        "# Циклы в Python"
      ],
      "metadata": {
        "id": "FHm7S99kaRfU"
      }
    },
    {
      "cell_type": "markdown",
      "source": [
        "## while"
      ],
      "metadata": {
        "id": "H0OxrB2xadc7"
      }
    },
    {
      "cell_type": "markdown",
      "source": [
        "While выполняется до тех пор, пока выполняется условие"
      ],
      "metadata": {
        "id": "-3bvlyBWa3UD"
      }
    },
    {
      "cell_type": "code",
      "source": [
        "a = 0\n",
        "while a <= 3:\n",
        "  print(a)\n",
        "  a += 1 #a = a + 1"
      ],
      "metadata": {
        "colab": {
          "base_uri": "https://localhost:8080/"
        },
        "id": "0q8KfVgkaTib",
        "outputId": "8da570c6-b9cb-4503-df6f-c5aca1fdf0e2"
      },
      "execution_count": null,
      "outputs": [
        {
          "output_type": "stream",
          "name": "stdout",
          "text": [
            "0\n",
            "1\n",
            "2\n",
            "3\n"
          ]
        }
      ]
    },
    {
      "cell_type": "markdown",
      "source": [
        "## Операторы циклов"
      ],
      "metadata": {
        "id": "CgEs_V4Xb8xT"
      }
    },
    {
      "cell_type": "markdown",
      "source": [
        "break - оператор досрочного завершения цикла"
      ],
      "metadata": {
        "id": "GwiyqlOJcB-j"
      }
    },
    {
      "cell_type": "code",
      "source": [
        "a = 5\n",
        "while a>0:\n",
        "  print(a)\n",
        "  if a**2 == 9:\n",
        "    break\n",
        "  a -= 1"
      ],
      "metadata": {
        "colab": {
          "base_uri": "https://localhost:8080/"
        },
        "id": "-vah0GiRcAQx",
        "outputId": "a4102bc8-50bb-49a2-a6d6-adf16c8d9b01"
      },
      "execution_count": null,
      "outputs": [
        {
          "output_type": "stream",
          "name": "stdout",
          "text": [
            "5\n",
            "4\n",
            "3\n"
          ]
        }
      ]
    },
    {
      "cell_type": "code",
      "source": [
        "a = 5\n",
        "while a>0:\n",
        "  if a**2 == 9:\n",
        "    break\n",
        "  print(a)\n",
        "  a -= 1"
      ],
      "metadata": {
        "colab": {
          "base_uri": "https://localhost:8080/"
        },
        "id": "Eiiln8-Ogdac",
        "outputId": "86d0e93a-b08a-4bd7-ff66-7d2a10b576dd"
      },
      "execution_count": null,
      "outputs": [
        {
          "output_type": "stream",
          "name": "stdout",
          "text": [
            "5\n",
            "4\n"
          ]
        }
      ]
    },
    {
      "cell_type": "markdown",
      "source": [
        "continue - оператор перехода к следующей итерации"
      ],
      "metadata": {
        "id": "bksSnohuceCz"
      }
    },
    {
      "cell_type": "code",
      "source": [
        "a = 5\n",
        "while a>0:\n",
        "  a -= 1\n",
        "  if a**2 == 9:\n",
        "    continue\n",
        "  print(a)"
      ],
      "metadata": {
        "colab": {
          "base_uri": "https://localhost:8080/"
        },
        "id": "arK-oueGcjXb",
        "outputId": "bebe4908-c19a-4684-cfe7-0067ca076022"
      },
      "execution_count": null,
      "outputs": [
        {
          "output_type": "stream",
          "name": "stdout",
          "text": [
            "4\n",
            "2\n",
            "1\n",
            "0\n"
          ]
        }
      ]
    },
    {
      "cell_type": "markdown",
      "source": [
        "## Цикл for"
      ],
      "metadata": {
        "id": "3XXWhsmTg0IM"
      }
    },
    {
      "cell_type": "markdown",
      "source": [
        "for - Повторяет действия определенное количество раз"
      ],
      "metadata": {
        "id": "2lBEBqrYhrDl"
      }
    },
    {
      "cell_type": "code",
      "source": [
        "for i in 1,2,3:\n",
        "  print(i + 1)"
      ],
      "metadata": {
        "colab": {
          "base_uri": "https://localhost:8080/"
        },
        "id": "DGEU-GKQg4Yr",
        "outputId": "dfbbd33d-6566-4063-cfae-4f04ea501574"
      },
      "execution_count": null,
      "outputs": [
        {
          "output_type": "stream",
          "name": "stdout",
          "text": [
            "2\n",
            "3\n",
            "4\n"
          ]
        }
      ]
    },
    {
      "cell_type": "markdown",
      "source": [
        "range - функция, возвращающая последовательность от start (вкл) до end (не вкл) с шагом step: (start, end, step)"
      ],
      "metadata": {
        "id": "YZ4uopYoh33d"
      }
    },
    {
      "cell_type": "code",
      "source": [
        "for i in range(1, 4, 1):\n",
        "  print(i + 1)"
      ],
      "metadata": {
        "colab": {
          "base_uri": "https://localhost:8080/"
        },
        "id": "UB6F4rlrh07T",
        "outputId": "a46e999c-e450-431c-ee16-c75b4a271788"
      },
      "execution_count": null,
      "outputs": [
        {
          "output_type": "stream",
          "name": "stdout",
          "text": [
            "2\n",
            "3\n",
            "4\n"
          ]
        }
      ]
    },
    {
      "cell_type": "code",
      "source": [
        "string_ex = 'кот'\n",
        "for i in string_ex:\n",
        "  print(i)"
      ],
      "metadata": {
        "colab": {
          "base_uri": "https://localhost:8080/"
        },
        "id": "Wx6j55ZiiW1M",
        "outputId": "12ea4680-b805-4d68-fd53-4537d2010a1d"
      },
      "execution_count": null,
      "outputs": [
        {
          "output_type": "stream",
          "name": "stdout",
          "text": [
            "к\n",
            "о\n",
            "т\n"
          ]
        }
      ]
    },
    {
      "cell_type": "code",
      "source": [
        "list_ex = [[1, 2], [3, 4], [5, 6]]\n",
        "for i in list_ex:\n",
        "  print(i)"
      ],
      "metadata": {
        "colab": {
          "base_uri": "https://localhost:8080/"
        },
        "id": "KQ_QyeGmif8D",
        "outputId": "01e02b1f-d66a-4555-964d-914697eeb77d"
      },
      "execution_count": null,
      "outputs": [
        {
          "output_type": "stream",
          "name": "stdout",
          "text": [
            "[1, 2]\n",
            "[3, 4]\n",
            "[5, 6]\n"
          ]
        }
      ]
    },
    {
      "cell_type": "code",
      "source": [],
      "metadata": {
        "id": "JSa76jchitub"
      },
      "execution_count": null,
      "outputs": []
    },
    {
      "cell_type": "markdown",
      "source": [
        "# Домашнее задание"
      ],
      "metadata": {
        "id": "m5ziiEL7i3OU"
      }
    },
    {
      "cell_type": "code",
      "source": [
        "import pandas as pd\n",
        "import numpy as np\n"
      ],
      "metadata": {
        "id": "-vpMsn55uUnY"
      },
      "execution_count": null,
      "outputs": []
    },
    {
      "cell_type": "code",
      "source": [
        "comment = [\"Эта идея хорошо подходит для нашего проекта, молодцы!\",\n",
        "           \"Хорошо, что вы подняли эту тему, она очень важна!\",\n",
        "           \"Мне нравится, как вы изложили свои мысли, очень хорошо!\",\n",
        "           \"К сожалению, ситуация здесь выглядит плохо, есть над чем поработать.\",\n",
        "           \"Плохо, что такие мнения появляются, это не конструктивно.\",\n",
        "           \"Увы, реализация идеи вышла плохо, нужно больше усилий!\"]\n",
        "np.random.seed(3)\n",
        "like = np.random.randint(100, 600, (6, ))\n",
        "repost = np.random.randint(10, 60, (6, ))\n",
        "view = np.random.randint(500, 2500, (6, ))"
      ],
      "metadata": {
        "id": "bwb2sgyRzZ8J"
      },
      "execution_count": null,
      "outputs": []
    },
    {
      "cell_type": "markdown",
      "source": [
        "1. Проанализировать список comment. Посчитать количество символов и слов в каждом комментарии.\n",
        "2. Проанализировать список comment. Вывести на экран индекс комментария и напротив его тональность. (Если есть слово \"хорошо\", то тональность положительная, если есть слово \"плохо\", то тональность отрицательная)\n",
        "3. Создать DataFrame из списков comment, like, repost, view с идентичными названиями колонок\n",
        "4. Вывести на экран комментарий, у коготорого больше всего лайков.\n",
        "5. Посчитать для каждого комментария оценку вовлеченности ((like + repost)/view)\n"
      ],
      "metadata": {
        "id": "Pzw1P6pY1fKB"
      }
    },
    {
      "cell_type": "code",
      "source": [
        "# 1. Анализ списка comment: подсчет количества символов и слов в каждом комментарии\n",
        "print(\"1. Количество символов и слов в каждом комментарии:\")\n",
        "for idx, comm in enumerate(comment):\n",
        "    n_chars = len(comm)\n",
        "    n_words = len(comm.split())\n",
        "    print(f\"Комментарий {idx}: {n_chars} символов, {n_words} слов\")\n",
        "print(\"\\n\")"
      ],
      "metadata": {
        "id": "ki7ZpDT533YJ",
        "colab": {
          "base_uri": "https://localhost:8080/"
        },
        "outputId": "940a69e6-b24e-44e4-c033-aee8bc46d61f"
      },
      "execution_count": null,
      "outputs": [
        {
          "output_type": "stream",
          "name": "stdout",
          "text": [
            "1. Количество символов и слов в каждом комментарии:\n",
            "Комментарий 0: 53 символов, 8 слов\n",
            "Комментарий 1: 49 символов, 9 слов\n",
            "Комментарий 2: 55 символов, 9 слов\n",
            "Комментарий 3: 68 символов, 10 слов\n",
            "Комментарий 4: 57 символов, 8 слов\n",
            "Комментарий 5: 54 символов, 8 слов\n",
            "\n",
            "\n"
          ]
        }
      ]
    },
    {
      "cell_type": "code",
      "source": [
        "# 2. Анализ списка comment: определение тональности комментария\n",
        "print(\"2. Тональность комментариев:\")\n",
        "for idx, comm in enumerate(comment):\n",
        "    # Приводим комментарий к нижнему регистру для корректного поиска\n",
        "    comm_lower = comm.lower()\n",
        "    if \"хорошо\" in comm_lower:\n",
        "        tone = \"положительная\"\n",
        "    elif \"плохо\" in comm_lower:\n",
        "        tone = \"отрицательная\"\n",
        "    else:\n",
        "        tone = \"не определена\"\n",
        "    print(f\"Комментарий {idx}: {tone}\")\n",
        "print(\"\\n\")"
      ],
      "metadata": {
        "colab": {
          "base_uri": "https://localhost:8080/"
        },
        "id": "iA4MlX3pCuWs",
        "outputId": "dd94f193-9bb6-4129-ab6a-2568254b62df"
      },
      "execution_count": null,
      "outputs": [
        {
          "output_type": "stream",
          "name": "stdout",
          "text": [
            "2. Тональность комментариев:\n",
            "Комментарий 0: положительная\n",
            "Комментарий 1: положительная\n",
            "Комментарий 2: положительная\n",
            "Комментарий 3: отрицательная\n",
            "Комментарий 4: отрицательная\n",
            "Комментарий 5: отрицательная\n",
            "\n",
            "\n"
          ]
        }
      ]
    },
    {
      "cell_type": "code",
      "source": [
        "# 3. Создание DataFrame из списков comment, like, repost, view\n",
        "df = pd.DataFrame({\n",
        "    'comment': comment,\n",
        "    'like': like,\n",
        "    'repost': repost,\n",
        "    'view': view\n",
        "})\n",
        "print(\"3. DataFrame из списков:\")\n",
        "print(df)\n",
        "print(\"\\n\")"
      ],
      "metadata": {
        "colab": {
          "base_uri": "https://localhost:8080/"
        },
        "id": "wzPDWOg_Cx_P",
        "outputId": "8b9c9665-d814-472c-9b7e-77faaeac373e"
      },
      "execution_count": null,
      "outputs": [
        {
          "output_type": "stream",
          "name": "stdout",
          "text": [
            "3. DataFrame из списков:\n",
            "                                             comment  like  repost  view\n",
            "0  Эта идея хорошо подходит для нашего проекта, м...   462      10  2174\n",
            "1  Хорошо, что вы подняли эту тему, она очень важна!   252      31  1417\n",
            "2  Мне нравится, как вы изложили свои мысли, очен...   349      29  1643\n",
            "3  К сожалению, ситуация здесь выглядит плохо, ес...   231      20  1946\n",
            "4  Плохо, что такие мнения появляются, это не кон...   540      53   980\n",
            "5  Увы, реализация идеи вышла плохо, нужно больше...   556      51  2184\n",
            "\n",
            "\n"
          ]
        }
      ]
    },
    {
      "cell_type": "code",
      "source": [
        "# 4. Вывод комментария с наибольшим количеством лайков\n",
        "max_like_index = df['like'].idxmax()\n",
        "print(\"4. Комментарий с наибольшим количеством лайков:\")\n",
        "print(df.loc[max_like_index, 'comment'])\n",
        "print(\"\\n\")"
      ],
      "metadata": {
        "colab": {
          "base_uri": "https://localhost:8080/"
        },
        "id": "y54O_zffCzBP",
        "outputId": "ff58db9e-9dda-4e2e-9618-e8e61dfc1036"
      },
      "execution_count": null,
      "outputs": [
        {
          "output_type": "stream",
          "name": "stdout",
          "text": [
            "4. Комментарий с наибольшим количеством лайков:\n",
            "Увы, реализация идеи вышла плохо, нужно больше усилий!\n",
            "\n",
            "\n"
          ]
        }
      ]
    },
    {
      "cell_type": "code",
      "source": [
        "# 5. Подсчет оценки вовлеченности для каждого комментария ((like + repost)/view)\n",
        "df['engagement'] = (df['like'] + df['repost']) / df['view']\n",
        "print(\"5. Оценка вовлеченности для каждого комментария:\")\n",
        "print(df[['comment', 'engagement']])"
      ],
      "metadata": {
        "colab": {
          "base_uri": "https://localhost:8080/"
        },
        "id": "9ecCob2tCz2x",
        "outputId": "edee8199-0c46-49ad-b107-d3458f66b778"
      },
      "execution_count": null,
      "outputs": [
        {
          "output_type": "stream",
          "name": "stdout",
          "text": [
            "5. Оценка вовлеченности для каждого комментария:\n",
            "                                             comment  engagement\n",
            "0  Эта идея хорошо подходит для нашего проекта, м...    0.217111\n",
            "1  Хорошо, что вы подняли эту тему, она очень важна!    0.199718\n",
            "2  Мне нравится, как вы изложили свои мысли, очен...    0.230067\n",
            "3  К сожалению, ситуация здесь выглядит плохо, ес...    0.128983\n",
            "4  Плохо, что такие мнения появляются, это не кон...    0.605102\n",
            "5  Увы, реализация идеи вышла плохо, нужно больше...    0.277930\n"
          ]
        }
      ]
    }
  ]
}